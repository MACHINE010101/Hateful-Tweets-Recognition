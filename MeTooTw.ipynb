{
 "cells": [
  {
   "cell_type": "markdown",
   "id": "962bdd50",
   "metadata": {
    "_cell_guid": "e3bc4854-2787-eae1-950d-2742ad3d7db2",
    "_uuid": "d507f816cc74a88c9afefd02cf225d1a7dd6461f"
   },
   "source": [
    "# DA Practice 3: Hatred on Twitter During MeToo Movement\n",
    "\n",
    "\n",
    "[Data modeling](https://en.wikipedia.org/wiki/Data_modeling) is a crucial process in information management that involves the creation of a conceptual, logical, and physical representation of data. It provides a structured approach for organizing and storing data in a database, enabling efficient access and retrieval of information. Effective data modeling ensures the accuracy, consistency, and integrity of data by establishing clear relationships between data elements and defining their attributes.\n",
    "\n",
    "In this report, I will provide an overview of data modeling, including its importance, process, and techniques used in developing a data model. I will then demonstrate the application of data modeling by using a dataset that the teacher sent from kaggle. Additionally, I will explain the steps involved in the data modeling process. This is to cover modeling aspects that I can still imporve on."
   ]
  },
  {
   "cell_type": "markdown",
   "id": "6902f55a",
   "metadata": {},
   "source": [
    "## Data set\n",
    "\n",
    "This [dataset](https://www.kaggle.com/datasets/rahulgoel1106/hatred-on-twitter-during-metoo-movement) belongs to the MeToo movement on Twitter. This movement was against the sexual harassment incidents and many people posted various hatred tweets. Using this dataset, we can build a model that can accurately classify hatred and non-hatred tweets to restrict its spread."
   ]
  },
  {
   "cell_type": "markdown",
   "id": "a71fee81",
   "metadata": {},
   "source": [
    "#  Insights from Tweet Prediction Data💡\n",
    "\n",
    "**Here are the insights from the analysis:**\n",
    "\n",
    "| Question | Insight |\n",
    "| ------- | ------- |\n",
    "| How many rows and columns are in the dataset? | The dataset contains 807174 rows and 10 columns. |\n",
    "| What is the percentage of hateful vs non-hateful tweets in the dataset? | There are aprox. 88% hateful 11% non-hateful. |\n",
    "| What is the percentage of diabetes in the dataset? | There are aprox. 8% diabetes. |\n",
    "| Are there all tweets relevant? | There are a lot of irelevant tweets, one character tweets and random emojis tweets. |\n",
    "| Is the dataset reliable? | This dataset is not as relaiable. |\n",
    "\n",
    "\n",
    "**Based on the EDA visualizations, here are some additional insights:**\n",
    "\n",
    "    Usually a hateful tweet have more characters.\n",
    "    Most of the tweets have around 60 characters.\n",
    "    The words length is aprox. the same in hateful and non-hateful tweets.\n",
    "    A hateful tweet is retweeted way more than a non-hateful one.\n",
    "    A hateful tweet is favorited way more than a non-hateful one.\n",
    "\n"
   ]
  },
  {
   "cell_type": "markdown",
   "id": "1730ff7b",
   "metadata": {},
   "source": [
    "## Problem definition\n",
    "\n",
    "**Research question: How do we build a model that is able to separate hateful vs. non-hateful tweets?**\n",
    "\n",
    "The main focus of this project is to build a model that is able to separate hateful vs. non-hateful tweets, this is done using a few feature columns related to tweets.\n",
    "\n",
    "Other questions to answer:\n",
    "\n",
    "What is the impact of the unbalanced data on your results? How can you mitigate it? \n",
    "What is the implication of using the random sampler, should we sample before diving the data into train and test, or after it?\n",
    "What happens if we apply the model trained on the sampled data on the entire dataset, does it work?"
   ]
  },
  {
   "cell_type": "markdown",
   "id": "4be4199f",
   "metadata": {},
   "source": [
    "## Loading the libraries\n",
    "\n",
    "I load some Data Analytics libraries first:"
   ]
  },
  {
   "cell_type": "code",
   "execution_count": 2,
   "id": "ce2a2162",
   "metadata": {},
   "outputs": [],
   "source": [
    "import numpy as np  # import auxiliary library, typical idiom\n",
    "import pandas as pd  # import the Pandas library, typical idiom\n",
    "import matplotlib.pyplot as plt\n",
    "import seaborn as sns\n",
    "import warnings\n",
    "warnings.filterwarnings('ignore')\n",
    "import string\n",
    "import re\n",
    "import nltk"
   ]
  },
  {
   "cell_type": "markdown",
   "id": "c2a900cc",
   "metadata": {
    "_cell_guid": "e3bc4854-2787-eae1-950d-2742ad3d7db2",
    "_uuid": "d507f816cc74a88c9afefd02cf225d1a7dd6461f"
   },
   "source": [
    "Now, I selectively import the relevant classes and functions from `sklearn`\n",
    "[(_SciKit Learn_, a Python library for machine learning)](http://scikit-learn.org/.) and `nltk` [(Natural Language Toolkit)](https://www.nltk.org/)"
   ]
  },
  {
   "cell_type": "code",
   "execution_count": 87,
   "id": "25cfa07b",
   "metadata": {},
   "outputs": [
    {
     "name": "stderr",
     "output_type": "stream",
     "text": [
      "[nltk_data] Downloading package punkt to /home/eduard/nltk_data...\n",
      "[nltk_data]   Package punkt is already up-to-date!\n",
      "[nltk_data] Downloading package stopwords to /home/eduard/nltk_data...\n",
      "[nltk_data]   Package stopwords is already up-to-date!\n",
      "[nltk_data] Downloading package vader_lexicon to\n",
      "[nltk_data]     /home/eduard/nltk_data...\n",
      "[nltk_data]   Package vader_lexicon is already up-to-date!\n"
     ]
    },
    {
     "data": {
      "text/plain": [
       "True"
      ]
     },
     "execution_count": 87,
     "metadata": {},
     "output_type": "execute_result"
    }
   ],
   "source": [
    "from sklearn.model_selection import train_test_split\n",
    "from sklearn.linear_model import LogisticRegression\n",
    "from sklearn.neighbors import KNeighborsClassifier\n",
    "from sklearn.metrics import accuracy_score\n",
    "from sklearn.metrics import accuracy_score, confusion_matrix, mean_squared_error\n",
    "from sklearn.pipeline import Pipeline\n",
    "from sklearn.tree import plot_tree\n",
    "from sklearn.tree import DecisionTreeClassifier, export_text\n",
    "from sklearn.model_selection import GridSearchCV\n",
    "from sklearn.base import BaseEstimator, TransformerMixin\n",
    "from sklearn.preprocessing import FunctionTransformer\n",
    "from sklearn.metrics import roc_curve, roc_auc_score\n",
    "from sklearn.metrics import accuracy_score, precision_score, recall_score\n",
    "from sklearn.feature_extraction.text import TfidfVectorizer\n",
    "from sklearn.decomposition import NMF\n",
    "from collections import Counter\n",
    "from imblearn.under_sampling import RandomUnderSampler\n",
    "from nltk.tokenize import word_tokenize\n",
    "from nltk.sentiment import SentimentIntensityAnalyzer\n",
    "from nltk.corpus import stopwords\n",
    "from nltk.stem import PorterStemmer\n",
    "from nltk.stem import WordNetLemmatizer\n",
    "nltk.download('punkt')\n",
    "nltk.download('stopwords')\n",
    "nltk.download('vader_lexicon')"
   ]
  },
  {
   "cell_type": "markdown",
   "id": "b5bffbe5",
   "metadata": {},
   "source": [
    "Color paletter for data exploration."
   ]
  },
  {
   "cell_type": "code",
   "execution_count": 4,
   "id": "b15400a0",
   "metadata": {},
   "outputs": [],
   "source": [
    "custom_palette = ['#586994', '#143109', '#FFDDD2', '#D8FFDD', '#95C623']"
   ]
  },
  {
   "cell_type": "markdown",
   "id": "25e3edf8",
   "metadata": {},
   "source": [
    "## Getting to know the data\n",
    "\n",
    "Tweets of different people."
   ]
  },
  {
   "cell_type": "code",
   "execution_count": 5,
   "id": "8b4f3ff9",
   "metadata": {
    "scrolled": false
   },
   "outputs": [
    {
     "data": {
      "text/html": [
       "<div>\n",
       "<style scoped>\n",
       "    .dataframe tbody tr th:only-of-type {\n",
       "        vertical-align: middle;\n",
       "    }\n",
       "\n",
       "    .dataframe tbody tr th {\n",
       "        vertical-align: top;\n",
       "    }\n",
       "\n",
       "    .dataframe thead th {\n",
       "        text-align: right;\n",
       "    }\n",
       "</style>\n",
       "<table border=\"1\" class=\"dataframe\">\n",
       "  <thead>\n",
       "    <tr style=\"text-align: right;\">\n",
       "      <th></th>\n",
       "      <th>status_id</th>\n",
       "      <th>text</th>\n",
       "      <th>created_at</th>\n",
       "      <th>favorite_count</th>\n",
       "      <th>retweet_count</th>\n",
       "      <th>location</th>\n",
       "      <th>followers_count</th>\n",
       "      <th>friends_count</th>\n",
       "      <th>statuses_count</th>\n",
       "      <th>category</th>\n",
       "    </tr>\n",
       "  </thead>\n",
       "  <tbody>\n",
       "    <tr>\n",
       "      <th>0</th>\n",
       "      <td>1046207313588236290</td>\n",
       "      <td>Entitled, obnoxious, defensive, lying weasel. ...</td>\n",
       "      <td>2018-09-30T01:17:15Z</td>\n",
       "      <td>5</td>\n",
       "      <td>1</td>\n",
       "      <td>McAllen, TX</td>\n",
       "      <td>2253</td>\n",
       "      <td>2303</td>\n",
       "      <td>23856</td>\n",
       "      <td>0</td>\n",
       "    </tr>\n",
       "    <tr>\n",
       "      <th>1</th>\n",
       "      <td>1046207328113086464</td>\n",
       "      <td>Thank you  and  for what you did for the women...</td>\n",
       "      <td>2018-09-30T01:17:19Z</td>\n",
       "      <td>5</td>\n",
       "      <td>2</td>\n",
       "      <td>Tampa, FL</td>\n",
       "      <td>2559</td>\n",
       "      <td>4989</td>\n",
       "      <td>19889</td>\n",
       "      <td>0</td>\n",
       "    </tr>\n",
       "    <tr>\n",
       "      <th>2</th>\n",
       "      <td>1046207329589493760</td>\n",
       "      <td>Knitting (s) &amp;amp; getting ready for January 1...</td>\n",
       "      <td>2018-09-30T01:17:19Z</td>\n",
       "      <td>0</td>\n",
       "      <td>0</td>\n",
       "      <td>St Cloud, MN</td>\n",
       "      <td>16</td>\n",
       "      <td>300</td>\n",
       "      <td>9</td>\n",
       "      <td>0</td>\n",
       "    </tr>\n",
       "    <tr>\n",
       "      <th>3</th>\n",
       "      <td>1046207341283168256</td>\n",
       "      <td>Yep just like triffeling women weaponized thei...</td>\n",
       "      <td>2018-09-30T01:17:22Z</td>\n",
       "      <td>1</td>\n",
       "      <td>0</td>\n",
       "      <td>flyover country</td>\n",
       "      <td>3573</td>\n",
       "      <td>3732</td>\n",
       "      <td>38361</td>\n",
       "      <td>1</td>\n",
       "    </tr>\n",
       "    <tr>\n",
       "      <th>4</th>\n",
       "      <td>1046207347016826880</td>\n",
       "      <td>No, the President wants to end  movement posin...</td>\n",
       "      <td>2018-09-30T01:17:23Z</td>\n",
       "      <td>0</td>\n",
       "      <td>0</td>\n",
       "      <td>World</td>\n",
       "      <td>294</td>\n",
       "      <td>312</td>\n",
       "      <td>7635</td>\n",
       "      <td>0</td>\n",
       "    </tr>\n",
       "  </tbody>\n",
       "</table>\n",
       "</div>"
      ],
      "text/plain": [
       "             status_id                                               text   \n",
       "0  1046207313588236290  Entitled, obnoxious, defensive, lying weasel. ...  \\\n",
       "1  1046207328113086464  Thank you  and  for what you did for the women...   \n",
       "2  1046207329589493760  Knitting (s) &amp; getting ready for January 1...   \n",
       "3  1046207341283168256  Yep just like triffeling women weaponized thei...   \n",
       "4  1046207347016826880  No, the President wants to end  movement posin...   \n",
       "\n",
       "             created_at  favorite_count  retweet_count         location   \n",
       "0  2018-09-30T01:17:15Z               5              1      McAllen, TX  \\\n",
       "1  2018-09-30T01:17:19Z               5              2        Tampa, FL   \n",
       "2  2018-09-30T01:17:19Z               0              0     St Cloud, MN   \n",
       "3  2018-09-30T01:17:22Z               1              0  flyover country   \n",
       "4  2018-09-30T01:17:23Z               0              0            World   \n",
       "\n",
       "   followers_count  friends_count  statuses_count  category  \n",
       "0             2253           2303           23856         0  \n",
       "1             2559           4989           19889         0  \n",
       "2               16            300               9         0  \n",
       "3             3573           3732           38361         1  \n",
       "4              294            312            7635         0  "
      ]
     },
     "execution_count": 5,
     "metadata": {},
     "output_type": "execute_result"
    }
   ],
   "source": [
    "df = pd.read_csv('Data/MeTooHate.csv')\n",
    "df.head(5)"
   ]
  },
  {
   "cell_type": "code",
   "execution_count": 6,
   "id": "e05c4821",
   "metadata": {
    "scrolled": true
   },
   "outputs": [
    {
     "data": {
      "text/plain": [
       "Index(['status_id', 'text', 'created_at', 'favorite_count', 'retweet_count',\n",
       "       'location', 'followers_count', 'friends_count', 'statuses_count',\n",
       "       'category'],\n",
       "      dtype='object')"
      ]
     },
     "execution_count": 6,
     "metadata": {},
     "output_type": "execute_result"
    }
   ],
   "source": [
    "df.columns"
   ]
  },
  {
   "cell_type": "markdown",
   "id": "4f09af7f",
   "metadata": {},
   "source": [
    "Dataset contains 10 columns, each are:\n",
    "\n",
    "    status_id: A unique id for each tweet [numeric].\n",
    "    text: tweet text data [string].\n",
    "    created_at: The timestamp of the tweet [timestamp].\n",
    "    favourite_count: favourite count of the user of the tweet [numeric].\n",
    "    retweet_count: retweet count of the tweet [numeric].\n",
    "    location: location mentioned by the user while tweeting [string].\n",
    "    followers_count: user's followers' count [numeric].\n",
    "    friends_count: user's friends' count [numeric].\n",
    "    statuses_count: user's total statuses count [numeric].\n",
    "    category: target variable, whether tweet belongs to hatred (category=1) or non-hatred (catogory=0).\n"
   ]
  },
  {
   "cell_type": "markdown",
   "id": "32d82f6a",
   "metadata": {},
   "source": [
    "The size of the dataset is 807174 x 10"
   ]
  },
  {
   "cell_type": "code",
   "execution_count": 7,
   "id": "07bfed52",
   "metadata": {},
   "outputs": [
    {
     "data": {
      "text/plain": [
       "(807174, 10)"
      ]
     },
     "execution_count": 7,
     "metadata": {},
     "output_type": "execute_result"
    }
   ],
   "source": [
    "df.shape"
   ]
  },
  {
   "cell_type": "markdown",
   "id": "181e93ed",
   "metadata": {},
   "source": [
    "The dataset columns are the following types:"
   ]
  },
  {
   "cell_type": "code",
   "execution_count": 8,
   "id": "18359409",
   "metadata": {},
   "outputs": [
    {
     "data": {
      "text/plain": [
       "status_id           int64\n",
       "text               object\n",
       "created_at         object\n",
       "favorite_count      int64\n",
       "retweet_count       int64\n",
       "location           object\n",
       "followers_count     int64\n",
       "friends_count       int64\n",
       "statuses_count      int64\n",
       "category            int64\n",
       "dtype: object"
      ]
     },
     "execution_count": 8,
     "metadata": {},
     "output_type": "execute_result"
    }
   ],
   "source": [
    "df.dtypes"
   ]
  },
  {
   "cell_type": "code",
   "execution_count": 9,
   "id": "8337f886",
   "metadata": {},
   "outputs": [
    {
     "data": {
      "text/plain": [
       "array(['Entitled, obnoxious, defensive, lying weasel. This thing is to make decisions that may affect my life? He is a women hater.   ',\n",
       "       'Thank you  and  for what you did for the women and survivors this week.  \\n',\n",
       "       'Knitting (s) &amp; getting ready for January 19, 2019.     ', ...,\n",
       "       'Did the  movement count the dollars of Erin Andrews? Just wondering? ',\n",
       "       \"This is one of my all time fav songs &amp; videos! It's brutally honest &amp; uncomfortable but also hopeful &amp; so well shot. Watch it, it might change you. Can't wait for 's Europe tour &amp; finally getting to see her live!! 🖤\",\n",
       "       \" I watched your news on the death of the sailor in the famous WW2 'The Kiss' photo. While its OK for RIP to the sailor you reporting completely missed that the nurse in the photo DID NOT want to be kissed &amp; felt assaulted in that photo. In a  area, you failed.\"],\n",
       "      dtype=object)"
      ]
     },
     "execution_count": 9,
     "metadata": {},
     "output_type": "execute_result"
    }
   ],
   "source": [
    "text = df['text'].unique()\n",
    "text"
   ]
  },
  {
   "cell_type": "code",
   "execution_count": 10,
   "id": "a1e6d927",
   "metadata": {
    "scrolled": true
   },
   "outputs": [
    {
     "data": {
      "text/plain": [
       "array(['McAllen, TX', 'Tampa, FL', 'St Cloud, MN', ...,\n",
       "       'The Land of the Shadowbanned', 'NYC, NC, FL, DC, Africa, India',\n",
       "       'The Right Side Of History,  CA'], dtype=object)"
      ]
     },
     "execution_count": 10,
     "metadata": {},
     "output_type": "execute_result"
    }
   ],
   "source": [
    "location = df['location'].unique()\n",
    "location"
   ]
  },
  {
   "cell_type": "code",
   "execution_count": 11,
   "id": "29cb98b8",
   "metadata": {},
   "outputs": [
    {
     "data": {
      "text/plain": [
       "array([ 23856,  19889,      9, ..., 139798,  45481,  66966])"
      ]
     },
     "execution_count": 11,
     "metadata": {},
     "output_type": "execute_result"
    }
   ],
   "source": [
    "statuses_count = df['statuses_count'].unique()\n",
    "statuses_count"
   ]
  },
  {
   "cell_type": "code",
   "execution_count": 12,
   "id": "d08c7966",
   "metadata": {},
   "outputs": [
    {
     "data": {
      "text/plain": [
       "array([0, 1])"
      ]
     },
     "execution_count": 12,
     "metadata": {},
     "output_type": "execute_result"
    }
   ],
   "source": [
    "category = df['category'].unique()\n",
    "category"
   ]
  },
  {
   "cell_type": "markdown",
   "id": "ec0de3cd",
   "metadata": {},
   "source": [
    "Category is the target feature that we try to predict."
   ]
  },
  {
   "cell_type": "markdown",
   "id": "51d2af40",
   "metadata": {},
   "source": [
    "## Data Cleaning\n",
    "\n",
    "The next step I plan to take is to look at different columns and identify any possible inconsistencies."
   ]
  },
  {
   "cell_type": "code",
   "execution_count": 13,
   "id": "35bc676e",
   "metadata": {},
   "outputs": [
    {
     "data": {
      "text/plain": [
       "status_id               0\n",
       "text                 3536\n",
       "created_at              0\n",
       "favorite_count          0\n",
       "retweet_count           0\n",
       "location           190780\n",
       "followers_count         0\n",
       "friends_count           0\n",
       "statuses_count          0\n",
       "category                0\n",
       "dtype: int64"
      ]
     },
     "execution_count": 13,
     "metadata": {},
     "output_type": "execute_result"
    }
   ],
   "source": [
    "df.isnull().sum()"
   ]
  },
  {
   "cell_type": "markdown",
   "id": "1dacd0c4",
   "metadata": {},
   "source": [
    "I have checked for null values, and it appears that there are a few null values in this dataset.\n",
    "\n",
    "Location is not a meaningfull feature column in our use case but still I cannot aford to lose as much data by dropping the null values in location col, therefore I''m going to fill the null values with unknows."
   ]
  },
  {
   "cell_type": "code",
   "execution_count": 14,
   "id": "77e204dd",
   "metadata": {},
   "outputs": [],
   "source": [
    "df['location'] = df['location'].fillna(\"unknown\")"
   ]
  },
  {
   "cell_type": "code",
   "execution_count": 15,
   "id": "2c97e639",
   "metadata": {},
   "outputs": [],
   "source": [
    "# def clean_location(location):\n",
    "#     # Remove leading and trailing whitespace\n",
    "#     location = location.strip()\n",
    "    \n",
    "#     # Convert to lowercase\n",
    "#     location = location.lower()\n",
    "    \n",
    "#     # Remove unnecessary characters or symbols\n",
    "#     location = re.sub(r\"[^\\w\\s]+\", \"\", location)\n",
    "    \n",
    "#     # Extract city or country information\n",
    "#     if ',' in location:\n",
    "#         location_parts = location.split(',')\n",
    "#         location = location_parts[0].strip()  # Extract the city\n",
    "#     else:\n",
    "#         location = location  # Keep the original location if no comma is found\n",
    "\n",
    "#     return location"
   ]
  },
  {
   "cell_type": "markdown",
   "id": "ec7adf2b",
   "metadata": {},
   "source": [
    "Due to the large size of this dataset, we have an abundance of samples for training a model. Consequently, I will remove the rows that contain duplicates and null values."
   ]
  },
  {
   "cell_type": "code",
   "execution_count": 16,
   "id": "31fe9abd",
   "metadata": {
    "scrolled": false
   },
   "outputs": [],
   "source": [
    "df.drop_duplicates(inplace=True)\n",
    "df = df.dropna()"
   ]
  },
  {
   "cell_type": "markdown",
   "id": "c872a3ee",
   "metadata": {},
   "source": [
    "I'm going to create a new columns with the length of each tweet, this will help to get more insights."
   ]
  },
  {
   "cell_type": "code",
   "execution_count": 17,
   "id": "428ac29f",
   "metadata": {},
   "outputs": [],
   "source": [
    "df['chars'] = df['text'].str.len()"
   ]
  },
  {
   "cell_type": "code",
   "execution_count": 18,
   "id": "dbac74b3",
   "metadata": {
    "scrolled": true
   },
   "outputs": [
    {
     "data": {
      "text/plain": [
       "1612        \n",
       "2503        \n",
       "2908        \n",
       "3092       :\n",
       "4234       [\n",
       "          ..\n",
       "762325     📢\n",
       "768856     [\n",
       "770343     [\n",
       "772782     📢\n",
       "776258    \\n\n",
       "Name: text, Length: 139, dtype: object"
      ]
     },
     "execution_count": 18,
     "metadata": {},
     "output_type": "execute_result"
    }
   ],
   "source": [
    "tweets_with_zero_text = df[df['chars'] == 1]['text']\n",
    "tweets_with_zero_text"
   ]
  },
  {
   "cell_type": "markdown",
   "id": "8068cb36",
   "metadata": {},
   "source": [
    "## Data Preprocessing\n",
    "\n",
    "Before I'm going to modify the data for the model, I'm going to make a copy that we can use for data exploration."
   ]
  },
  {
   "cell_type": "code",
   "execution_count": 19,
   "id": "59abc800",
   "metadata": {
    "scrolled": false
   },
   "outputs": [
    {
     "data": {
      "text/html": [
       "<div>\n",
       "<style scoped>\n",
       "    .dataframe tbody tr th:only-of-type {\n",
       "        vertical-align: middle;\n",
       "    }\n",
       "\n",
       "    .dataframe tbody tr th {\n",
       "        vertical-align: top;\n",
       "    }\n",
       "\n",
       "    .dataframe thead th {\n",
       "        text-align: right;\n",
       "    }\n",
       "</style>\n",
       "<table border=\"1\" class=\"dataframe\">\n",
       "  <thead>\n",
       "    <tr style=\"text-align: right;\">\n",
       "      <th></th>\n",
       "      <th>status_id</th>\n",
       "      <th>text</th>\n",
       "      <th>created_at</th>\n",
       "      <th>favorite_count</th>\n",
       "      <th>retweet_count</th>\n",
       "      <th>location</th>\n",
       "      <th>followers_count</th>\n",
       "      <th>friends_count</th>\n",
       "      <th>statuses_count</th>\n",
       "      <th>category</th>\n",
       "      <th>chars</th>\n",
       "    </tr>\n",
       "  </thead>\n",
       "  <tbody>\n",
       "    <tr>\n",
       "      <th>0</th>\n",
       "      <td>1046207313588236290</td>\n",
       "      <td>Entitled, obnoxious, defensive, lying weasel. ...</td>\n",
       "      <td>2018-09-30T01:17:15Z</td>\n",
       "      <td>5</td>\n",
       "      <td>1</td>\n",
       "      <td>McAllen, TX</td>\n",
       "      <td>2253</td>\n",
       "      <td>2303</td>\n",
       "      <td>23856</td>\n",
       "      <td>0</td>\n",
       "      <td>126</td>\n",
       "    </tr>\n",
       "    <tr>\n",
       "      <th>1</th>\n",
       "      <td>1046207328113086464</td>\n",
       "      <td>Thank you  and  for what you did for the women...</td>\n",
       "      <td>2018-09-30T01:17:19Z</td>\n",
       "      <td>5</td>\n",
       "      <td>2</td>\n",
       "      <td>Tampa, FL</td>\n",
       "      <td>2559</td>\n",
       "      <td>4989</td>\n",
       "      <td>19889</td>\n",
       "      <td>0</td>\n",
       "      <td>74</td>\n",
       "    </tr>\n",
       "    <tr>\n",
       "      <th>2</th>\n",
       "      <td>1046207329589493760</td>\n",
       "      <td>Knitting (s) &amp;amp; getting ready for January 1...</td>\n",
       "      <td>2018-09-30T01:17:19Z</td>\n",
       "      <td>0</td>\n",
       "      <td>0</td>\n",
       "      <td>St Cloud, MN</td>\n",
       "      <td>16</td>\n",
       "      <td>300</td>\n",
       "      <td>9</td>\n",
       "      <td>0</td>\n",
       "      <td>59</td>\n",
       "    </tr>\n",
       "    <tr>\n",
       "      <th>3</th>\n",
       "      <td>1046207341283168256</td>\n",
       "      <td>Yep just like triffeling women weaponized thei...</td>\n",
       "      <td>2018-09-30T01:17:22Z</td>\n",
       "      <td>1</td>\n",
       "      <td>0</td>\n",
       "      <td>flyover country</td>\n",
       "      <td>3573</td>\n",
       "      <td>3732</td>\n",
       "      <td>38361</td>\n",
       "      <td>1</td>\n",
       "      <td>194</td>\n",
       "    </tr>\n",
       "    <tr>\n",
       "      <th>4</th>\n",
       "      <td>1046207347016826880</td>\n",
       "      <td>No, the President wants to end  movement posin...</td>\n",
       "      <td>2018-09-30T01:17:23Z</td>\n",
       "      <td>0</td>\n",
       "      <td>0</td>\n",
       "      <td>World</td>\n",
       "      <td>294</td>\n",
       "      <td>312</td>\n",
       "      <td>7635</td>\n",
       "      <td>0</td>\n",
       "      <td>66</td>\n",
       "    </tr>\n",
       "  </tbody>\n",
       "</table>\n",
       "</div>"
      ],
      "text/plain": [
       "             status_id                                               text   \n",
       "0  1046207313588236290  Entitled, obnoxious, defensive, lying weasel. ...  \\\n",
       "1  1046207328113086464  Thank you  and  for what you did for the women...   \n",
       "2  1046207329589493760  Knitting (s) &amp; getting ready for January 1...   \n",
       "3  1046207341283168256  Yep just like triffeling women weaponized thei...   \n",
       "4  1046207347016826880  No, the President wants to end  movement posin...   \n",
       "\n",
       "             created_at  favorite_count  retweet_count         location   \n",
       "0  2018-09-30T01:17:15Z               5              1      McAllen, TX  \\\n",
       "1  2018-09-30T01:17:19Z               5              2        Tampa, FL   \n",
       "2  2018-09-30T01:17:19Z               0              0     St Cloud, MN   \n",
       "3  2018-09-30T01:17:22Z               1              0  flyover country   \n",
       "4  2018-09-30T01:17:23Z               0              0            World   \n",
       "\n",
       "   followers_count  friends_count  statuses_count  category  chars  \n",
       "0             2253           2303           23856         0    126  \n",
       "1             2559           4989           19889         0     74  \n",
       "2               16            300               9         0     59  \n",
       "3             3573           3732           38361         1    194  \n",
       "4              294            312            7635         0     66  "
      ]
     },
     "execution_count": 19,
     "metadata": {},
     "output_type": "execute_result"
    }
   ],
   "source": [
    "df_pre = df.copy()\n",
    "df_pre.head(5)"
   ]
  },
  {
   "cell_type": "markdown",
   "id": "6a4d11e6",
   "metadata": {},
   "source": [
    "Remove rows with empty text & nulls."
   ]
  },
  {
   "cell_type": "code",
   "execution_count": 20,
   "id": "43fa9acf",
   "metadata": {},
   "outputs": [],
   "source": [
    "df.dropna(inplace=True)\n",
    "df.dropna(subset=['text'], inplace=True)"
   ]
  },
  {
   "cell_type": "code",
   "execution_count": 21,
   "id": "6602f527",
   "metadata": {},
   "outputs": [
    {
     "data": {
      "text/plain": [
       "(803638, 11)"
      ]
     },
     "execution_count": 21,
     "metadata": {},
     "output_type": "execute_result"
    }
   ],
   "source": [
    "df.shape"
   ]
  },
  {
   "cell_type": "code",
   "execution_count": 22,
   "id": "9ebfd989",
   "metadata": {},
   "outputs": [
    {
     "data": {
      "text/html": [
       "<div>\n",
       "<style scoped>\n",
       "    .dataframe tbody tr th:only-of-type {\n",
       "        vertical-align: middle;\n",
       "    }\n",
       "\n",
       "    .dataframe tbody tr th {\n",
       "        vertical-align: top;\n",
       "    }\n",
       "\n",
       "    .dataframe thead th {\n",
       "        text-align: right;\n",
       "    }\n",
       "</style>\n",
       "<table border=\"1\" class=\"dataframe\">\n",
       "  <thead>\n",
       "    <tr style=\"text-align: right;\">\n",
       "      <th></th>\n",
       "      <th>status_id</th>\n",
       "      <th>text</th>\n",
       "      <th>created_at</th>\n",
       "      <th>favorite_count</th>\n",
       "      <th>retweet_count</th>\n",
       "      <th>location</th>\n",
       "      <th>followers_count</th>\n",
       "      <th>friends_count</th>\n",
       "      <th>statuses_count</th>\n",
       "      <th>category</th>\n",
       "      <th>chars</th>\n",
       "    </tr>\n",
       "  </thead>\n",
       "  <tbody>\n",
       "  </tbody>\n",
       "</table>\n",
       "</div>"
      ],
      "text/plain": [
       "Empty DataFrame\n",
       "Columns: [status_id, text, created_at, favorite_count, retweet_count, location, followers_count, friends_count, statuses_count, category, chars]\n",
       "Index: []"
      ]
     },
     "execution_count": 22,
     "metadata": {},
     "output_type": "execute_result"
    }
   ],
   "source": [
    "df[df['text'] == '']"
   ]
  },
  {
   "cell_type": "markdown",
   "id": "63e217fa",
   "metadata": {},
   "source": [
    "### Buiding a pipeline\n",
    "A pipeline refers to a sequence of data processing steps applied to a DataFrame or a Series. It allows you to chain multiple operations together and apply them sequentially, simplifying the data transformation and analysis process.\n",
    "\n",
    "**This pipeline goes as follows:**\n",
    "    \n",
    "    ⏩ Transform raw text\n",
    "    ⏩ Remove punctuation \n",
    "    ⏩ Remove non-alphanumeric\n",
    "    ⏩ Tokenization\n",
    "    ⏩ Remove stop words\n",
    "    ⏩ Stemming/Lemmatizing"
   ]
  },
  {
   "cell_type": "code",
   "execution_count": 23,
   "id": "497eb4a2",
   "metadata": {},
   "outputs": [],
   "source": [
    "class TextTransformer(BaseEstimator, TransformerMixin):\n",
    "    def transform(self, X):\n",
    "        return [self.transform_text(text) for text in X]\n",
    "    \n",
    "    def fit(self, X, y=None):\n",
    "        return self\n",
    "    \n",
    "    def transform_text(self, text):\n",
    "        text = str(text)\n",
    "        text = text.lower()\n",
    "        return text"
   ]
  },
  {
   "cell_type": "code",
   "execution_count": 24,
   "id": "754af7ab",
   "metadata": {},
   "outputs": [],
   "source": [
    "class PunctuationRemover(BaseEstimator, TransformerMixin):\n",
    "    def transform(self, X):\n",
    "        return [self.remove_punctuation(text) for text in X]\n",
    "    \n",
    "    def fit(self, X, y=None):\n",
    "        return self\n",
    "    \n",
    "    def remove_punctuation(self, text):\n",
    "        if text.strip() == \"\":\n",
    "            return text\n",
    "        text_no_punct = ''.join([char for char in text if char not in string.punctuation])\n",
    "        return text_no_punct"
   ]
  },
  {
   "cell_type": "code",
   "execution_count": 25,
   "id": "e37f8fcd",
   "metadata": {},
   "outputs": [],
   "source": [
    "class NonAlphanumericRemover(BaseEstimator, TransformerMixin):\n",
    "    def transform(self, X):\n",
    "        return [self.remove_non_alphanumeric(text) for text in X]\n",
    "    \n",
    "    def fit(self, X, y=None):\n",
    "        return self\n",
    "    \n",
    "    def remove_non_alphanumeric(self, text):\n",
    "        if text.strip() == \"\":\n",
    "            return text\n",
    "        alphanumeric_chars = [ch for ch in text if ch.isalnum() or ch.isspace()]\n",
    "        return ''.join(alphanumeric_chars)"
   ]
  },
  {
   "cell_type": "code",
   "execution_count": 26,
   "id": "b73794a0",
   "metadata": {},
   "outputs": [],
   "source": [
    "class TextTokenizer(BaseEstimator, TransformerMixin):\n",
    "    def transform(self, X):\n",
    "        return [self.tokenize_text(text) for text in X]\n",
    "    \n",
    "    def fit(self, X, y=None):\n",
    "        return self\n",
    "    \n",
    "    def tokenize_text(self, text):\n",
    "        tokens = word_tokenize(text)\n",
    "        return tokens"
   ]
  },
  {
   "cell_type": "code",
   "execution_count": 27,
   "id": "25dd13d1",
   "metadata": {},
   "outputs": [],
   "source": [
    "class StopwordRemover(BaseEstimator, TransformerMixin):\n",
    "    def transform(self, X):\n",
    "        return [self.remove_stopwords(tokens) for tokens in X]\n",
    "    \n",
    "    def fit(self, X, y=None):\n",
    "        return self\n",
    "    \n",
    "    def remove_stopwords(self, tokens):\n",
    "        stop_words = set(stopwords.words('english'))\n",
    "        tokens_without_stopwords = [token for token in tokens if token.lower() not in stop_words]\n",
    "        return tokens_without_stopwords"
   ]
  },
  {
   "cell_type": "code",
   "execution_count": 28,
   "id": "678194a6",
   "metadata": {},
   "outputs": [],
   "source": [
    "class StemmingTransformer(BaseEstimator, TransformerMixin):\n",
    "    def transform(self, X):\n",
    "        return [self.perform_stemming(tokens) for tokens in X]\n",
    "    \n",
    "    def fit(self, X, y=None):\n",
    "        return self\n",
    "    \n",
    "    def perform_stemming(self, tokens):\n",
    "        stemmer = PorterStemmer()\n",
    "        stemmed_text = [stemmer.stem(word) for word in tokens]\n",
    "        return stemmed_text"
   ]
  },
  {
   "cell_type": "code",
   "execution_count": 29,
   "id": "d17cdf53",
   "metadata": {},
   "outputs": [
    {
     "data": {
      "text/html": [
       "<style>#sk-container-id-1 {color: black;background-color: white;}#sk-container-id-1 pre{padding: 0;}#sk-container-id-1 div.sk-toggleable {background-color: white;}#sk-container-id-1 label.sk-toggleable__label {cursor: pointer;display: block;width: 100%;margin-bottom: 0;padding: 0.3em;box-sizing: border-box;text-align: center;}#sk-container-id-1 label.sk-toggleable__label-arrow:before {content: \"▸\";float: left;margin-right: 0.25em;color: #696969;}#sk-container-id-1 label.sk-toggleable__label-arrow:hover:before {color: black;}#sk-container-id-1 div.sk-estimator:hover label.sk-toggleable__label-arrow:before {color: black;}#sk-container-id-1 div.sk-toggleable__content {max-height: 0;max-width: 0;overflow: hidden;text-align: left;background-color: #f0f8ff;}#sk-container-id-1 div.sk-toggleable__content pre {margin: 0.2em;color: black;border-radius: 0.25em;background-color: #f0f8ff;}#sk-container-id-1 input.sk-toggleable__control:checked~div.sk-toggleable__content {max-height: 200px;max-width: 100%;overflow: auto;}#sk-container-id-1 input.sk-toggleable__control:checked~label.sk-toggleable__label-arrow:before {content: \"▾\";}#sk-container-id-1 div.sk-estimator input.sk-toggleable__control:checked~label.sk-toggleable__label {background-color: #d4ebff;}#sk-container-id-1 div.sk-label input.sk-toggleable__control:checked~label.sk-toggleable__label {background-color: #d4ebff;}#sk-container-id-1 input.sk-hidden--visually {border: 0;clip: rect(1px 1px 1px 1px);clip: rect(1px, 1px, 1px, 1px);height: 1px;margin: -1px;overflow: hidden;padding: 0;position: absolute;width: 1px;}#sk-container-id-1 div.sk-estimator {font-family: monospace;background-color: #f0f8ff;border: 1px dotted black;border-radius: 0.25em;box-sizing: border-box;margin-bottom: 0.5em;}#sk-container-id-1 div.sk-estimator:hover {background-color: #d4ebff;}#sk-container-id-1 div.sk-parallel-item::after {content: \"\";width: 100%;border-bottom: 1px solid gray;flex-grow: 1;}#sk-container-id-1 div.sk-label:hover label.sk-toggleable__label {background-color: #d4ebff;}#sk-container-id-1 div.sk-serial::before {content: \"\";position: absolute;border-left: 1px solid gray;box-sizing: border-box;top: 0;bottom: 0;left: 50%;z-index: 0;}#sk-container-id-1 div.sk-serial {display: flex;flex-direction: column;align-items: center;background-color: white;padding-right: 0.2em;padding-left: 0.2em;position: relative;}#sk-container-id-1 div.sk-item {position: relative;z-index: 1;}#sk-container-id-1 div.sk-parallel {display: flex;align-items: stretch;justify-content: center;background-color: white;position: relative;}#sk-container-id-1 div.sk-item::before, #sk-container-id-1 div.sk-parallel-item::before {content: \"\";position: absolute;border-left: 1px solid gray;box-sizing: border-box;top: 0;bottom: 0;left: 50%;z-index: -1;}#sk-container-id-1 div.sk-parallel-item {display: flex;flex-direction: column;z-index: 1;position: relative;background-color: white;}#sk-container-id-1 div.sk-parallel-item:first-child::after {align-self: flex-end;width: 50%;}#sk-container-id-1 div.sk-parallel-item:last-child::after {align-self: flex-start;width: 50%;}#sk-container-id-1 div.sk-parallel-item:only-child::after {width: 0;}#sk-container-id-1 div.sk-dashed-wrapped {border: 1px dashed gray;margin: 0 0.4em 0.5em 0.4em;box-sizing: border-box;padding-bottom: 0.4em;background-color: white;}#sk-container-id-1 div.sk-label label {font-family: monospace;font-weight: bold;display: inline-block;line-height: 1.2em;}#sk-container-id-1 div.sk-label-container {text-align: center;}#sk-container-id-1 div.sk-container {/* jupyter's `normalize.less` sets `[hidden] { display: none; }` but bootstrap.min.css set `[hidden] { display: none !important; }` so we also need the `!important` here to be able to override the default hidden behavior on the sphinx rendered scikit-learn.org. See: https://github.com/scikit-learn/scikit-learn/issues/21755 */display: inline-block !important;position: relative;}#sk-container-id-1 div.sk-text-repr-fallback {display: none;}</style><div id=\"sk-container-id-1\" class=\"sk-top-container\"><div class=\"sk-text-repr-fallback\"><pre>Pipeline(steps=[(&#x27;text_transformer&#x27;, TextTransformer()),\n",
       "                (&#x27;punctuation_remover&#x27;, PunctuationRemover()),\n",
       "                (&#x27;non_alphanumeric_remover&#x27;, NonAlphanumericRemover()),\n",
       "                (&#x27;text_tokenizer&#x27;, TextTokenizer()),\n",
       "                (&#x27;stopword_remover&#x27;, StopwordRemover()),\n",
       "                (&#x27;stemming_transformer&#x27;, StemmingTransformer())])</pre><b>In a Jupyter environment, please rerun this cell to show the HTML representation or trust the notebook. <br />On GitHub, the HTML representation is unable to render, please try loading this page with nbviewer.org.</b></div><div class=\"sk-container\" hidden><div class=\"sk-item sk-dashed-wrapped\"><div class=\"sk-label-container\"><div class=\"sk-label sk-toggleable\"><input class=\"sk-toggleable__control sk-hidden--visually\" id=\"sk-estimator-id-1\" type=\"checkbox\" ><label for=\"sk-estimator-id-1\" class=\"sk-toggleable__label sk-toggleable__label-arrow\">Pipeline</label><div class=\"sk-toggleable__content\"><pre>Pipeline(steps=[(&#x27;text_transformer&#x27;, TextTransformer()),\n",
       "                (&#x27;punctuation_remover&#x27;, PunctuationRemover()),\n",
       "                (&#x27;non_alphanumeric_remover&#x27;, NonAlphanumericRemover()),\n",
       "                (&#x27;text_tokenizer&#x27;, TextTokenizer()),\n",
       "                (&#x27;stopword_remover&#x27;, StopwordRemover()),\n",
       "                (&#x27;stemming_transformer&#x27;, StemmingTransformer())])</pre></div></div></div><div class=\"sk-serial\"><div class=\"sk-item\"><div class=\"sk-estimator sk-toggleable\"><input class=\"sk-toggleable__control sk-hidden--visually\" id=\"sk-estimator-id-2\" type=\"checkbox\" ><label for=\"sk-estimator-id-2\" class=\"sk-toggleable__label sk-toggleable__label-arrow\">TextTransformer</label><div class=\"sk-toggleable__content\"><pre>TextTransformer()</pre></div></div></div><div class=\"sk-item\"><div class=\"sk-estimator sk-toggleable\"><input class=\"sk-toggleable__control sk-hidden--visually\" id=\"sk-estimator-id-3\" type=\"checkbox\" ><label for=\"sk-estimator-id-3\" class=\"sk-toggleable__label sk-toggleable__label-arrow\">PunctuationRemover</label><div class=\"sk-toggleable__content\"><pre>PunctuationRemover()</pre></div></div></div><div class=\"sk-item\"><div class=\"sk-estimator sk-toggleable\"><input class=\"sk-toggleable__control sk-hidden--visually\" id=\"sk-estimator-id-4\" type=\"checkbox\" ><label for=\"sk-estimator-id-4\" class=\"sk-toggleable__label sk-toggleable__label-arrow\">NonAlphanumericRemover</label><div class=\"sk-toggleable__content\"><pre>NonAlphanumericRemover()</pre></div></div></div><div class=\"sk-item\"><div class=\"sk-estimator sk-toggleable\"><input class=\"sk-toggleable__control sk-hidden--visually\" id=\"sk-estimator-id-5\" type=\"checkbox\" ><label for=\"sk-estimator-id-5\" class=\"sk-toggleable__label sk-toggleable__label-arrow\">TextTokenizer</label><div class=\"sk-toggleable__content\"><pre>TextTokenizer()</pre></div></div></div><div class=\"sk-item\"><div class=\"sk-estimator sk-toggleable\"><input class=\"sk-toggleable__control sk-hidden--visually\" id=\"sk-estimator-id-6\" type=\"checkbox\" ><label for=\"sk-estimator-id-6\" class=\"sk-toggleable__label sk-toggleable__label-arrow\">StopwordRemover</label><div class=\"sk-toggleable__content\"><pre>StopwordRemover()</pre></div></div></div><div class=\"sk-item\"><div class=\"sk-estimator sk-toggleable\"><input class=\"sk-toggleable__control sk-hidden--visually\" id=\"sk-estimator-id-7\" type=\"checkbox\" ><label for=\"sk-estimator-id-7\" class=\"sk-toggleable__label sk-toggleable__label-arrow\">StemmingTransformer</label><div class=\"sk-toggleable__content\"><pre>StemmingTransformer()</pre></div></div></div></div></div></div></div>"
      ],
      "text/plain": [
       "Pipeline(steps=[('text_transformer', TextTransformer()),\n",
       "                ('punctuation_remover', PunctuationRemover()),\n",
       "                ('non_alphanumeric_remover', NonAlphanumericRemover()),\n",
       "                ('text_tokenizer', TextTokenizer()),\n",
       "                ('stopword_remover', StopwordRemover()),\n",
       "                ('stemming_transformer', StemmingTransformer())])"
      ]
     },
     "execution_count": 29,
     "metadata": {},
     "output_type": "execute_result"
    }
   ],
   "source": [
    "preprocessing_pipeline = Pipeline([\n",
    "    ('text_transformer', TextTransformer()),\n",
    "    ('punctuation_remover', PunctuationRemover()),\n",
    "    ('non_alphanumeric_remover', NonAlphanumericRemover()),\n",
    "    ('text_tokenizer', TextTokenizer()),\n",
    "    ('stopword_remover', StopwordRemover()),\n",
    "    ('stemming_transformer', StemmingTransformer())\n",
    "])\n",
    "\n",
    "preprocessing_pipeline"
   ]
  },
  {
   "cell_type": "markdown",
   "id": "2dc1f2de",
   "metadata": {},
   "source": [
    "### Testing pipeline\n",
    "I'm going to test the pipeline to see if works as expected."
   ]
  },
  {
   "cell_type": "code",
   "execution_count": 30,
   "id": "bd54e774",
   "metadata": {
    "scrolled": false
   },
   "outputs": [
    {
     "data": {
      "text/html": [
       "<div>\n",
       "<style scoped>\n",
       "    .dataframe tbody tr th:only-of-type {\n",
       "        vertical-align: middle;\n",
       "    }\n",
       "\n",
       "    .dataframe tbody tr th {\n",
       "        vertical-align: top;\n",
       "    }\n",
       "\n",
       "    .dataframe thead th {\n",
       "        text-align: right;\n",
       "    }\n",
       "</style>\n",
       "<table border=\"1\" class=\"dataframe\">\n",
       "  <thead>\n",
       "    <tr style=\"text-align: right;\">\n",
       "      <th></th>\n",
       "      <th>text</th>\n",
       "      <th>text_after</th>\n",
       "    </tr>\n",
       "  </thead>\n",
       "  <tbody>\n",
       "    <tr>\n",
       "      <th>0</th>\n",
       "      <td>Hello! This is a sample text.</td>\n",
       "      <td>[hello, sampl, text]</td>\n",
       "    </tr>\n",
       "    <tr>\n",
       "      <th>1</th>\n",
       "      <td>I love using 👻 scikit~~~learn.</td>\n",
       "      <td>[love, use, scikitlearn]</td>\n",
       "    </tr>\n",
       "    <tr>\n",
       "      <th>2</th>\n",
       "      <td>Preprocessng is an important step.</td>\n",
       "      <td>[preprocessng, import, step]</td>\n",
       "    </tr>\n",
       "    <tr>\n",
       "      <th>3</th>\n",
       "      <td>The sun is shining.</td>\n",
       "      <td>[sun, shine]</td>\n",
       "    </tr>\n",
       "    <tr>\n",
       "      <th>4</th>\n",
       "      <td>my favorite colour is green.</td>\n",
       "      <td>[favorite, color, green]</td>\n",
       "    </tr>\n",
       "    <tr>\n",
       "      <th>5</th>\n",
       "      <td>Let's test the pipeline.</td>\n",
       "      <td>[let, test, pipelin]</td>\n",
       "    </tr>\n",
       "    <tr>\n",
       "      <th>6</th>\n",
       "      <td>???!!!!??!</td>\n",
       "      <td>[]</td>\n",
       "    </tr>\n",
       "  </tbody>\n",
       "</table>\n",
       "</div>"
      ],
      "text/plain": [
       "                                 text                    text_after\n",
       "0       Hello! This is a sample text.          [hello, sampl, text]\n",
       "1      I love using 👻 scikit~~~learn.      [love, use, scikitlearn]\n",
       "2  Preprocessng is an important step.  [preprocessng, import, step]\n",
       "3                 The sun is shining.                  [sun, shine]\n",
       "4        my favorite colour is green.      [favorite, color, green]\n",
       "5            Let's test the pipeline.          [let, test, pipelin]\n",
       "6                          ???!!!!??!                            []"
      ]
     },
     "execution_count": 30,
     "metadata": {},
     "output_type": "execute_result"
    }
   ],
   "source": [
    "data = {\n",
    "    'text': [\n",
    "        'Hello! This is a sample text.',\n",
    "        'I love using 👻 scikit~~~learn.',\n",
    "        'Preprocessng is an important step.',\n",
    "        'The sun is shining.',\n",
    "        'my favorite colour is green',\n",
    "        'Let\\'s test the pipeline.',\n",
    "        '???!!!!??!'\n",
    "    ]\n",
    "}\n",
    "\n",
    "test = pd.DataFrame(data)\n",
    "test['text_after'] = preprocessing_pipeline.fit_transform(test['text'])\n",
    "test"
   ]
  },
  {
   "cell_type": "markdown",
   "id": "8ced9a24",
   "metadata": {},
   "source": [
    "Here is where I apply the pipeline on the actual dataset."
   ]
  },
  {
   "cell_type": "code",
   "execution_count": 31,
   "id": "44152b32",
   "metadata": {},
   "outputs": [
    {
     "data": {
      "text/html": [
       "<div>\n",
       "<style scoped>\n",
       "    .dataframe tbody tr th:only-of-type {\n",
       "        vertical-align: middle;\n",
       "    }\n",
       "\n",
       "    .dataframe tbody tr th {\n",
       "        vertical-align: top;\n",
       "    }\n",
       "\n",
       "    .dataframe thead th {\n",
       "        text-align: right;\n",
       "    }\n",
       "</style>\n",
       "<table border=\"1\" class=\"dataframe\">\n",
       "  <thead>\n",
       "    <tr style=\"text-align: right;\">\n",
       "      <th></th>\n",
       "      <th>status_id</th>\n",
       "      <th>text</th>\n",
       "      <th>created_at</th>\n",
       "      <th>favorite_count</th>\n",
       "      <th>retweet_count</th>\n",
       "      <th>location</th>\n",
       "      <th>followers_count</th>\n",
       "      <th>friends_count</th>\n",
       "      <th>statuses_count</th>\n",
       "      <th>category</th>\n",
       "      <th>chars</th>\n",
       "    </tr>\n",
       "  </thead>\n",
       "  <tbody>\n",
       "    <tr>\n",
       "      <th>0</th>\n",
       "      <td>1046207313588236290</td>\n",
       "      <td>[entitl, obnoxi, defens, lie, weasel, thing, m...</td>\n",
       "      <td>2018-09-30T01:17:15Z</td>\n",
       "      <td>5</td>\n",
       "      <td>1</td>\n",
       "      <td>McAllen, TX</td>\n",
       "      <td>2253</td>\n",
       "      <td>2303</td>\n",
       "      <td>23856</td>\n",
       "      <td>0</td>\n",
       "      <td>126</td>\n",
       "    </tr>\n",
       "    <tr>\n",
       "      <th>1</th>\n",
       "      <td>1046207328113086464</td>\n",
       "      <td>[thank, women, survivor, week]</td>\n",
       "      <td>2018-09-30T01:17:19Z</td>\n",
       "      <td>5</td>\n",
       "      <td>2</td>\n",
       "      <td>Tampa, FL</td>\n",
       "      <td>2559</td>\n",
       "      <td>4989</td>\n",
       "      <td>19889</td>\n",
       "      <td>0</td>\n",
       "      <td>74</td>\n",
       "    </tr>\n",
       "    <tr>\n",
       "      <th>2</th>\n",
       "      <td>1046207329589493760</td>\n",
       "      <td>[knit, amp, get, readi, januari, 19, 2019]</td>\n",
       "      <td>2018-09-30T01:17:19Z</td>\n",
       "      <td>0</td>\n",
       "      <td>0</td>\n",
       "      <td>St Cloud, MN</td>\n",
       "      <td>16</td>\n",
       "      <td>300</td>\n",
       "      <td>9</td>\n",
       "      <td>0</td>\n",
       "      <td>59</td>\n",
       "    </tr>\n",
       "    <tr>\n",
       "      <th>3</th>\n",
       "      <td>1046207341283168256</td>\n",
       "      <td>[yep, like, triffel, women, weapon, poon, wond...</td>\n",
       "      <td>2018-09-30T01:17:22Z</td>\n",
       "      <td>1</td>\n",
       "      <td>0</td>\n",
       "      <td>flyover country</td>\n",
       "      <td>3573</td>\n",
       "      <td>3732</td>\n",
       "      <td>38361</td>\n",
       "      <td>1</td>\n",
       "      <td>194</td>\n",
       "    </tr>\n",
       "    <tr>\n",
       "      <th>4</th>\n",
       "      <td>1046207347016826880</td>\n",
       "      <td>[presid, want, end, movement, pose, movement]</td>\n",
       "      <td>2018-09-30T01:17:23Z</td>\n",
       "      <td>0</td>\n",
       "      <td>0</td>\n",
       "      <td>World</td>\n",
       "      <td>294</td>\n",
       "      <td>312</td>\n",
       "      <td>7635</td>\n",
       "      <td>0</td>\n",
       "      <td>66</td>\n",
       "    </tr>\n",
       "  </tbody>\n",
       "</table>\n",
       "</div>"
      ],
      "text/plain": [
       "             status_id                                               text   \n",
       "0  1046207313588236290  [entitl, obnoxi, defens, lie, weasel, thing, m...  \\\n",
       "1  1046207328113086464                     [thank, women, survivor, week]   \n",
       "2  1046207329589493760         [knit, amp, get, readi, januari, 19, 2019]   \n",
       "3  1046207341283168256  [yep, like, triffel, women, weapon, poon, wond...   \n",
       "4  1046207347016826880      [presid, want, end, movement, pose, movement]   \n",
       "\n",
       "             created_at  favorite_count  retweet_count         location   \n",
       "0  2018-09-30T01:17:15Z               5              1      McAllen, TX  \\\n",
       "1  2018-09-30T01:17:19Z               5              2        Tampa, FL   \n",
       "2  2018-09-30T01:17:19Z               0              0     St Cloud, MN   \n",
       "3  2018-09-30T01:17:22Z               1              0  flyover country   \n",
       "4  2018-09-30T01:17:23Z               0              0            World   \n",
       "\n",
       "   followers_count  friends_count  statuses_count  category  chars  \n",
       "0             2253           2303           23856         0    126  \n",
       "1             2559           4989           19889         0     74  \n",
       "2               16            300               9         0     59  \n",
       "3             3573           3732           38361         1    194  \n",
       "4              294            312            7635         0     66  "
      ]
     },
     "execution_count": 31,
     "metadata": {},
     "output_type": "execute_result"
    }
   ],
   "source": [
    "df['text'] = preprocessing_pipeline.fit_transform(df['text'])\n",
    "df.head(5)"
   ]
  },
  {
   "cell_type": "markdown",
   "id": "b8eb4ce1",
   "metadata": {},
   "source": [
    "Get rid of rows with no information."
   ]
  },
  {
   "cell_type": "code",
   "execution_count": 32,
   "id": "5a9516a6",
   "metadata": {},
   "outputs": [],
   "source": [
    "df = df[~(df['text'].apply(lambda x: x == []))]"
   ]
  },
  {
   "cell_type": "markdown",
   "id": "3afd9277",
   "metadata": {},
   "source": [
    "### TF-IDF (Term Frequency-Inverse Document Frequency)\n",
    "\n",
    "Term Frequency-Inverse Document Frequency is a numerical statistic that reflects the importance of a term (word) in a document within a collection of documents. TF-IDF is commonly used in text mining and information retrieval to determine the relevance of a term to a document."
   ]
  },
  {
   "cell_type": "code",
   "execution_count": 33,
   "id": "4ae07c92",
   "metadata": {
    "scrolled": false
   },
   "outputs": [
    {
     "name": "stdout",
     "output_type": "stream",
     "text": [
      "Document: 1\n",
      "  Term: weasel - TF-IDF: 0.43327485578302016\n",
      "  Term: obnoxi - TF-IDF: 0.3725136855189205\n",
      "  Term: hater - TF-IDF: 0.33640166408283984\n",
      "Document: 2\n",
      "  Term: week - TF-IDF: 0.6188757208546728\n",
      "  Term: survivor - TF-IDF: 0.5218450949116863\n",
      "  Term: thank - TF-IDF: 0.5024627427824614\n",
      "Document: 3\n",
      "  Term: knit - TF-IDF: 0.559823555368468\n",
      "  Term: januari - TF-IDF: 0.4375727699673274\n",
      "  Term: 19 - TF-IDF: 0.4093821968976717\n"
     ]
    }
   ],
   "source": [
    "vectorizer = TfidfVectorizer()\n",
    "\n",
    "documents = df['text'].tolist()\n",
    "documents = [str(doc) for doc in documents]\n",
    "\n",
    "tfidf_matrix = vectorizer.fit_transform(documents)\n",
    "\n",
    "feature_names = vectorizer.get_feature_names_out()\n",
    "\n",
    "for row in range(min(3, len(documents))):\n",
    "    print(\"Document:\", row + 1)\n",
    "    top_terms = sorted([(feature_names[col], tfidf_matrix[row, col]) for col in tfidf_matrix[row].nonzero()[1]], key=lambda x: x[1], reverse=True)[:3]\n",
    "    for term, tfidf in top_terms:\n",
    "        print(\"  Term:\", term, \"- TF-IDF:\", tfidf)"
   ]
  },
  {
   "cell_type": "markdown",
   "id": "522bfeed",
   "metadata": {},
   "source": [
    "### Topic modeling with the Non-Negative Matrix Factorization (NMF)\n",
    "\n",
    "Topic modeling with Non-Negative Matrix Factorization (NMF) is a method used to discover and extract hidden themes or topics from a collection of text documents. It aims to automatically identify common topics that occur across the documents without any prior knowledge or labeling.\n",
    "\n",
    "NMF works by breaking down the documents into two smaller matrices: one representing how each document is related to each topic, and the other representing how each topic is related to each word in the documents. By analyzing these relationships, NMF helps us identify the most important words associated with each topic."
   ]
  },
  {
   "cell_type": "code",
   "execution_count": 34,
   "id": "4d38896e",
   "metadata": {},
   "outputs": [
    {
     "name": "stdout",
     "output_type": "stream",
     "text": [
      "Topic 1: amp dont one get say\n",
      "Topic 2: like video playlist ad look\n",
      "Topic 3: movement india say start support\n",
      "Topic 4: sexual harass assault accus alleg\n",
      "Topic 5: women men era believ street\n"
     ]
    }
   ],
   "source": [
    "num_topics = 5\n",
    "nmf_model = NMF(n_components=num_topics)\n",
    "nmf_model.fit(tfidf_matrix)\n",
    "\n",
    "feature_names = vectorizer.get_feature_names_out()\n",
    "for topic_idx, topic in enumerate(nmf_model.components_):\n",
    "    top_words = [feature_names[i] for i in topic.argsort()[:-6:-1]]\n",
    "    print(f\"Topic {topic_idx+1}: {' '.join(top_words)}\")"
   ]
  },
  {
   "cell_type": "markdown",
   "id": "f1894097",
   "metadata": {},
   "source": [
    "## Data Exploration\n",
    "\n",
    "This is where I will try to analyze the data and find interesting facts. I'm going to see what is the average salary for each categorical feature that I plot. In order to choose what plot is most suitable for visualization I made use of a [webiste](https://www.data-to-viz.com/) that helps you in finding the best plot for your data. I have decided to use barplots in multiple instances because I want to maintain consistency throughout the document."
   ]
  },
  {
   "cell_type": "code",
   "execution_count": 35,
   "id": "c3207d4f",
   "metadata": {},
   "outputs": [
    {
     "data": {
      "image/png": "[encoded data removed]",
      "text/plain": [
       "<Figure size 504x504 with 1 Axes>"
      ]
     },
     "metadata": {},
     "output_type": "display_data"
    }
   ],
   "source": [
    "cat_counts = df_pre['category'].value_counts()\n",
    "total_count = len(df_pre)\n",
    "\n",
    "cat_percentage = (cat_counts / total_count) * 100\n",
    "\n",
    "plt.figure(figsize=(7, 7))\n",
    "plt.pie(cat_percentage, labels=cat_percentage.index, autopct='%1.1f%%', colors=custom_palette)\n",
    "plt.title('Percentage of Categories', fontsize=18)\n",
    "plt.axis('equal')\n",
    "description = \"This plot shows the percentage of hateful and non-hateful tweets.\"\n",
    "plt.figtext(1.15, 0.5, description, ha='left', fontsize=12)\n",
    "plt.show()"
   ]
  },
  {
   "cell_type": "markdown",
   "id": "befa2719",
   "metadata": {},
   "source": [
    "This plot tells me that this dataset is unbalanced."
   ]
  },
  {
   "cell_type": "code",
   "execution_count": 36,
   "id": "c70bf3a0",
   "metadata": {},
   "outputs": [
    {
     "data": {
      "image/png": "[encoded data removed]",
      "text/plain": [
       "<Figure size 576x432 with 1 Axes>"
      ]
     },
     "metadata": {
      "needs_background": "light"
     },
     "output_type": "display_data"
    }
   ],
   "source": [
    "category_chars_mean = df_pre.groupby('category')['chars'].mean()\n",
    "plt.figure(figsize=(8, 6))\n",
    "plt.bar(category_chars_mean.index, category_chars_mean.values, color=custom_palette)\n",
    "plt.xlabel('Category')\n",
    "plt.ylabel('Mean Character Count')\n",
    "plt.title('Character Count vs. Category', fontsize=18)\n",
    "\n",
    "description = \"This plot shows the relationship between the mean character count and the category.\"\n",
    "plt.figtext(1.15, 0.5, description, ha='left', fontsize=12)\n",
    "\n",
    "plt.show()"
   ]
  },
  {
   "cell_type": "code",
   "execution_count": 37,
   "id": "7412f050",
   "metadata": {},
   "outputs": [
    {
     "data": {
      "image/png": "[encoded data removed]",
      "text/plain": [
       "<Figure size 576x432 with 1 Axes>"
      ]
     },
     "metadata": {
      "needs_background": "light"
     },
     "output_type": "display_data"
    }
   ],
   "source": [
    "plt.figure(figsize=(8, 6))\n",
    "plt.hist(df_pre['chars'], bins=30, color=custom_palette[4])\n",
    "plt.xlabel('Number of Characters')\n",
    "plt.ylabel('Frequency')\n",
    "plt.title('Characters Distribution', fontsize=18)\n",
    "\n",
    "description = \"This plot shows the distribution of characters in the dataset.\"\n",
    "plt.figtext(1.15, 0.5, description, ha='left', fontsize=12)\n",
    "\n",
    "plt.show()"
   ]
  },
  {
   "cell_type": "code",
   "execution_count": 38,
   "id": "a7c85ebf",
   "metadata": {},
   "outputs": [],
   "source": [
    "df_pre['avg_word_length'] = df_pre['text'].apply(lambda x: np.mean([len(word) for word in x.split()]) if len(x.split()) > 0 else 0)"
   ]
  },
  {
   "cell_type": "code",
   "execution_count": 39,
   "id": "51fdd660",
   "metadata": {},
   "outputs": [
    {
     "data": {
      "image/png": "[encoded data removed]",
      "text/plain": [
       "<Figure size 576x432 with 1 Axes>"
      ]
     },
     "metadata": {
      "needs_background": "light"
     },
     "output_type": "display_data"
    }
   ],
   "source": [
    "hateful_tweets = df_pre[df_pre['category'] == 1]\n",
    "non_hateful_tweets = df_pre[df_pre['category'] == 0]\n",
    "\n",
    "hateful_avg_word_length = hateful_tweets['avg_word_length']\n",
    "non_hateful_avg_word_length = non_hateful_tweets['avg_word_length']\n",
    "plt.figure(figsize=(8, 6))\n",
    "plt.bar([0, 1], [hateful_avg_word_length.mean(), non_hateful_avg_word_length.mean()], color=custom_palette)\n",
    "plt.xticks([0, 1], ['Hateful', 'Non-Hateful'])\n",
    "plt.xlabel('Category')\n",
    "plt.ylabel('Average Word Length')\n",
    "plt.title('Average Word Length in Hateful vs Non-Hateful Tweets', fontsize=18)\n",
    "description = \"This plot shows the average word lenght in hateful vs non-hateful tweets.\"\n",
    "plt.figtext(1.15, 0.5, description, ha='left', fontsize=12)\n",
    "plt.show()\n"
   ]
  },
  {
   "cell_type": "code",
   "execution_count": 40,
   "id": "4090f36c",
   "metadata": {},
   "outputs": [
    {
     "data": {
      "image/png": "[encoded data removed]",
      "text/plain": [
       "<Figure size 576x432 with 1 Axes>"
      ]
     },
     "metadata": {
      "needs_background": "light"
     },
     "output_type": "display_data"
    }
   ],
   "source": [
    "hateful_avg_retweet_count = hateful_tweets['retweet_count'].mean()\n",
    "non_hateful_avg_retweet_count = non_hateful_tweets['retweet_count'].mean()\n",
    "plt.figure(figsize=(8, 6))\n",
    "plt.bar([0, 1], [hateful_avg_retweet_count, non_hateful_avg_retweet_count], color=custom_palette)\n",
    "plt.xticks([0, 1], ['Hateful', 'Non-Hateful'])\n",
    "plt.xlabel('Category')\n",
    "plt.ylabel('Average Retweet Count')\n",
    "plt.title('Average Retweet Count in Hateful vs Non-Hateful Tweets', fontsize=18)\n",
    "description = \"This plot shows the average retweet count in hateful vs non-hateful tweets.\"\n",
    "plt.figtext(1.15, 0.5, description, ha='left', fontsize=12)\n",
    "plt.show()"
   ]
  },
  {
   "cell_type": "code",
   "execution_count": 41,
   "id": "5380479c",
   "metadata": {},
   "outputs": [
    {
     "data": {
      "image/png": "[encoded data removed]",
      "text/plain": [
       "<Figure size 576x432 with 1 Axes>"
      ]
     },
     "metadata": {
      "needs_background": "light"
     },
     "output_type": "display_data"
    }
   ],
   "source": [
    "hateful_avg_favorite_count = hateful_tweets['favorite_count'].mean()\n",
    "non_hateful_avg_favorite_count = non_hateful_tweets['favorite_count'].mean()\n",
    "plt.figure(figsize=(8, 6))\n",
    "plt.bar([0, 1], [hateful_avg_favorite_count, non_hateful_avg_favorite_count], color=custom_palette)\n",
    "plt.xticks([0, 1], ['Hateful', 'Non-Hateful'])\n",
    "plt.xlabel('Category')\n",
    "plt.ylabel('Average Favorite Count')\n",
    "plt.title('Average Favorite Count in Hateful vs Non-Hateful Tweets', fontsize=18)\n",
    "description = \"This plot shows the average favorite count in hateful vs non-hateful tweets.\"\n",
    "plt.figtext(1.15, 0.5, description, ha='left', fontsize=12)\n",
    "plt.show()"
   ]
  },
  {
   "cell_type": "code",
   "execution_count": 42,
   "id": "9c43a92b",
   "metadata": {},
   "outputs": [
    {
     "data": {
      "image/png": "[encoded data removed]",
      "text/plain": [
       "<Figure size 720x432 with 1 Axes>"
      ]
     },
     "metadata": {
      "needs_background": "light"
     },
     "output_type": "display_data"
    }
   ],
   "source": [
    "all_text = ' '.join(df_pre['text'])\n",
    "words = all_text.split()\n",
    "word_counts = Counter(words)\n",
    "top_words = word_counts.most_common(5)\n",
    "\n",
    "top_words_list = [word for word, count in top_words]\n",
    "top_word_counts = [count for word, count in top_words]\n",
    "\n",
    "plt.figure(figsize=(10, 6))\n",
    "plt.bar(top_words_list, top_word_counts, color=custom_palette)\n",
    "plt.xlabel('Words')\n",
    "plt.ylabel('Count')\n",
    "plt.title('Top 5 Most Commonly Used Words in Tweets', fontsize=18)\n",
    "plt.xticks(rotation=45)\n",
    "plt.show()"
   ]
  },
  {
   "cell_type": "markdown",
   "id": "63fb2735",
   "metadata": {},
   "source": [
    "## Data Modeling\n",
    "\n",
    "For this data and problem, we are advised to use multiple models logistic regression, decision tree classifier and K-nearest neighbor classifier. The next question that we have to answer is how to find the best hyperparameters. To answer this question, we can make use of a grid search with cross-validation using scikit-learn library. Grid search with cross-validation is a common technique for hyperparameter tuning, which involves searching over a specified range of hyperparameter values and evaluating the model's performance on a validation set using k-fold cross-validation. The combination of hyperparameter values that yields the best performance is then selected as the optimal hyperparameters for the model. https://scikit-learn.org/stable/modules/generated/sklearn.model_selection.GridSearchCV.html\n",
    "\n",
    "**What is the impact of the unbalanced data on your results? How can you mitigate it?**\n",
    "Second problem that I encounter is that this data is unbalanced this may affect the model accuracy in the end because it doesn't have enough samples. [Imblearn PyPI](https://pypi.org/project/imbalanced-learn/) is a package for imbalanced data, it provides a random under sampler tehnique to mitigate the problem. This works by lowering the amount of observation to match with the other class.\n",
    "\n",
    "**Should we sample before diving the data into train and test, or after it? What happens if we apply the model trained on the sampled data on the entire dataset, does it work?**\n",
    "\n",
    "I took the approach to sample the data after the training test split, it can be a good idea because it allows you to get a more accurate understanding of how well your model performs on unseen examples. Additionally it is crucial to simulate real-world scenarios as closely as possible. If we apply the model on the entire dataset it would work because it simulate the real-world scenarios, the model gets better understanding of the real settings."
   ]
  },
  {
   "cell_type": "code",
   "execution_count": 43,
   "id": "39d85e4a",
   "metadata": {},
   "outputs": [],
   "source": [
    "df_backup = df.copy()\n",
    "df = df.sample(n=10000)"
   ]
  },
  {
   "cell_type": "markdown",
   "id": "1db188e5",
   "metadata": {},
   "source": [
    "### Select the data\n",
    "\n",
    "Let's try to predict if a tweet is  `hateful` by training different models on the data.\n",
    "\n",
    "### Train-Test split\n",
    "\n",
    "X contains the releveant features for this prediction, later we are going to find out what are the most important features"
   ]
  },
  {
   "cell_type": "code",
   "execution_count": 44,
   "id": "12b73110",
   "metadata": {
    "scrolled": false
   },
   "outputs": [
    {
     "data": {
      "text/plain": [
       "443539    [wow, pay, femal, staff, 20, less, male, nazi,...\n",
       "214739    [femin, turn, womenth, reaction, brett, kavana...\n",
       "556145    [ok, kindli, share, stori, mother, want, know,...\n",
       "510476                               [perfect, futur, case]\n",
       "516617    [sonam, k, ahuja, shouldnt, quiet, fear, hurt,...\n",
       "Name: text, dtype: object"
      ]
     },
     "execution_count": 44,
     "metadata": {},
     "output_type": "execute_result"
    }
   ],
   "source": [
    "X = df['text']\n",
    "y = df['category']\n",
    "\n",
    "X_train, X_test, y_train, y_test = train_test_split(X, y, test_size = 0.2, random_state = 0)\n",
    "X_train.head(5)"
   ]
  },
  {
   "cell_type": "markdown",
   "id": "b03a0c7e",
   "metadata": {},
   "source": [
    "### Balance the data\n",
    "\n",
    "To proceed with the random under-sampling step, I can use the imblearn library to apply the random under-sampling technique to the training data.\n",
    "\n",
    "**Before under-sampling**"
   ]
  },
  {
   "cell_type": "code",
   "execution_count": 45,
   "id": "6d81faf7",
   "metadata": {},
   "outputs": [
    {
     "data": {
      "image/png": "[encoded data removed]",
      "text/plain": [
       "<Figure size 432x432 with 1 Axes>"
      ]
     },
     "metadata": {
      "needs_background": "light"
     },
     "output_type": "display_data"
    }
   ],
   "source": [
    "cat_counts = y_train.value_counts()\n",
    "\n",
    "categories_counts_resampled = pd.Series(y_train).value_counts()\n",
    "plt.figure(figsize=(6, 6))\n",
    "plt.bar(cat_counts.index, cat_counts, color=custom_palette)\n",
    "plt.xlabel('Categories')\n",
    "plt.ylabel('Count')\n",
    "plt.title('Count of Categories', fontsize=18)\n",
    "plt.xticks(rotation=45)\n",
    "plt.tight_layout()\n",
    "plt.show()"
   ]
  },
  {
   "cell_type": "markdown",
   "id": "871f20d0",
   "metadata": {},
   "source": [
    "**Under Sampler**"
   ]
  },
  {
   "cell_type": "code",
   "execution_count": 46,
   "id": "6d49e63e",
   "metadata": {},
   "outputs": [],
   "source": [
    "X_train = np.array(X_train).reshape(-1, 1)\n",
    "under_sampler = RandomUnderSampler(random_state=0)\n",
    "\n",
    "X_train, y_train = under_sampler.fit_resample(X_train, y_train)"
   ]
  },
  {
   "cell_type": "markdown",
   "id": "d0649f48",
   "metadata": {},
   "source": [
    "**After under-sampling**\n",
    "\n",
    "I can see that the under sampler shrinked down the cases where tweets are non-hateful to a more equal value like the ones who are hateful. To prevent the risk of overfitting, using an under-sampler in this case reduces the number of instances in the majority class this can work because we have enough datapoints in this dataset."
   ]
  },
  {
   "cell_type": "code",
   "execution_count": 47,
   "id": "62ef12ff",
   "metadata": {
    "scrolled": false
   },
   "outputs": [
    {
     "data": {
      "image/png": "[encoded data removed]",
      "text/plain": [
       "<Figure size 432x432 with 1 Axes>"
      ]
     },
     "metadata": {
      "needs_background": "light"
     },
     "output_type": "display_data"
    }
   ],
   "source": [
    "cat_counts = y_train.value_counts()\n",
    "\n",
    "categories_counts_resampled = pd.Series(y_train).value_counts()\n",
    "plt.figure(figsize=(6, 6))\n",
    "plt.bar(cat_counts.index, cat_counts, color=custom_palette)\n",
    "plt.xlabel('Categories')\n",
    "plt.ylabel('Count')\n",
    "plt.title('Count of Categories', fontsize=18)\n",
    "plt.xticks(rotation=45)\n",
    "plt.tight_layout()\n",
    "plt.show()"
   ]
  },
  {
   "cell_type": "markdown",
   "id": "ad37676e",
   "metadata": {},
   "source": [
    "#### Sentiment Analysis\n",
    "\n",
    "Is the process of determining the sentiment or subjective information expressed in a piece of text. It involves analyzing and extracting the emotions, attitudes, opinions, and feelings conveyed by the text, whether it is positive, negative, or neutral."
   ]
  },
  {
   "cell_type": "code",
   "execution_count": 48,
   "id": "364ca1b7",
   "metadata": {
    "scrolled": false
   },
   "outputs": [],
   "source": [
    "X_train = [' '.join(row[0]) for row in X_train]"
   ]
  },
  {
   "cell_type": "code",
   "execution_count": 49,
   "id": "602fa190",
   "metadata": {
    "scrolled": false
   },
   "outputs": [],
   "source": [
    "sia = SentimentIntensityAnalyzer()\n",
    "\n",
    "sentiments = []\n",
    "for entity in X_train:\n",
    "    sentiment = sia.polarity_scores(entity)\n",
    "    sentiments.append(sentiment)"
   ]
  },
  {
   "cell_type": "markdown",
   "id": "d40c7e99",
   "metadata": {},
   "source": [
    "#### Vectorize \n",
    "I only vectorize the train data because it ensures the integrity and fairness of your model evaluation."
   ]
  },
  {
   "cell_type": "code",
   "execution_count": 50,
   "id": "d9b6ed2c",
   "metadata": {},
   "outputs": [],
   "source": [
    "vectorizer = TfidfVectorizer()\n",
    "X_train = vectorizer.fit_transform(X_train)"
   ]
  },
  {
   "cell_type": "markdown",
   "id": "da226586",
   "metadata": {},
   "source": [
    "#### Topic modeling\n",
    "Removing bad vectors"
   ]
  },
  {
   "cell_type": "code",
   "execution_count": 51,
   "id": "ec65aceb",
   "metadata": {},
   "outputs": [
    {
     "name": "stdout",
     "output_type": "stream",
     "text": [
      "Topic 1: get like dont man woman\n",
      "Topic 2: sexual assault harass accus abus\n",
      "Topic 3: women support men white believ\n",
      "Topic 4: movement one shit joke guess\n",
      "Topic 5: amp real abus hate sex\n"
     ]
    }
   ],
   "source": [
    "nmf_model = NMF(n_components=5, random_state=42)\n",
    "nmf_model.fit(X_train)\n",
    "\n",
    "feature_names = vectorizer.get_feature_names_out()\n",
    "for topic_idx, topic in enumerate(nmf_model.components_):\n",
    "    top_words = [feature_names[i] for i in topic.argsort()[:-6:-1]]\n",
    "    print(f\"Topic {topic_idx+1}: {' '.join(top_words)}\")"
   ]
  },
  {
   "cell_type": "markdown",
   "id": "0ee05d99",
   "metadata": {},
   "source": [
    "### Logistic regression\n",
    "\n",
    "#### Createing the regression object\n",
    "Next, I create the regression object for **logistic regression**,\n",
    "and store it in the variable `model`."
   ]
  },
  {
   "cell_type": "code",
   "execution_count": 52,
   "id": "f3fd725c",
   "metadata": {},
   "outputs": [],
   "source": [
    "lor = LogisticRegression()"
   ]
  },
  {
   "cell_type": "markdown",
   "id": "24c76b81",
   "metadata": {},
   "source": [
    "#### Fiting the model\n",
    "\n",
    "I will invoke the **`fit()`** function of the regression object,\n",
    "supplying the selected data:"
   ]
  },
  {
   "cell_type": "code",
   "execution_count": 53,
   "id": "47d147e6",
   "metadata": {
    "scrolled": true
   },
   "outputs": [
    {
     "data": {
      "text/html": [
       "<style>#sk-container-id-2 {color: black;background-color: white;}#sk-container-id-2 pre{padding: 0;}#sk-container-id-2 div.sk-toggleable {background-color: white;}#sk-container-id-2 label.sk-toggleable__label {cursor: pointer;display: block;width: 100%;margin-bottom: 0;padding: 0.3em;box-sizing: border-box;text-align: center;}#sk-container-id-2 label.sk-toggleable__label-arrow:before {content: \"▸\";float: left;margin-right: 0.25em;color: #696969;}#sk-container-id-2 label.sk-toggleable__label-arrow:hover:before {color: black;}#sk-container-id-2 div.sk-estimator:hover label.sk-toggleable__label-arrow:before {color: black;}#sk-container-id-2 div.sk-toggleable__content {max-height: 0;max-width: 0;overflow: hidden;text-align: left;background-color: #f0f8ff;}#sk-container-id-2 div.sk-toggleable__content pre {margin: 0.2em;color: black;border-radius: 0.25em;background-color: #f0f8ff;}#sk-container-id-2 input.sk-toggleable__control:checked~div.sk-toggleable__content {max-height: 200px;max-width: 100%;overflow: auto;}#sk-container-id-2 input.sk-toggleable__control:checked~label.sk-toggleable__label-arrow:before {content: \"▾\";}#sk-container-id-2 div.sk-estimator input.sk-toggleable__control:checked~label.sk-toggleable__label {background-color: #d4ebff;}#sk-container-id-2 div.sk-label input.sk-toggleable__control:checked~label.sk-toggleable__label {background-color: #d4ebff;}#sk-container-id-2 input.sk-hidden--visually {border: 0;clip: rect(1px 1px 1px 1px);clip: rect(1px, 1px, 1px, 1px);height: 1px;margin: -1px;overflow: hidden;padding: 0;position: absolute;width: 1px;}#sk-container-id-2 div.sk-estimator {font-family: monospace;background-color: #f0f8ff;border: 1px dotted black;border-radius: 0.25em;box-sizing: border-box;margin-bottom: 0.5em;}#sk-container-id-2 div.sk-estimator:hover {background-color: #d4ebff;}#sk-container-id-2 div.sk-parallel-item::after {content: \"\";width: 100%;border-bottom: 1px solid gray;flex-grow: 1;}#sk-container-id-2 div.sk-label:hover label.sk-toggleable__label {background-color: #d4ebff;}#sk-container-id-2 div.sk-serial::before {content: \"\";position: absolute;border-left: 1px solid gray;box-sizing: border-box;top: 0;bottom: 0;left: 50%;z-index: 0;}#sk-container-id-2 div.sk-serial {display: flex;flex-direction: column;align-items: center;background-color: white;padding-right: 0.2em;padding-left: 0.2em;position: relative;}#sk-container-id-2 div.sk-item {position: relative;z-index: 1;}#sk-container-id-2 div.sk-parallel {display: flex;align-items: stretch;justify-content: center;background-color: white;position: relative;}#sk-container-id-2 div.sk-item::before, #sk-container-id-2 div.sk-parallel-item::before {content: \"\";position: absolute;border-left: 1px solid gray;box-sizing: border-box;top: 0;bottom: 0;left: 50%;z-index: -1;}#sk-container-id-2 div.sk-parallel-item {display: flex;flex-direction: column;z-index: 1;position: relative;background-color: white;}#sk-container-id-2 div.sk-parallel-item:first-child::after {align-self: flex-end;width: 50%;}#sk-container-id-2 div.sk-parallel-item:last-child::after {align-self: flex-start;width: 50%;}#sk-container-id-2 div.sk-parallel-item:only-child::after {width: 0;}#sk-container-id-2 div.sk-dashed-wrapped {border: 1px dashed gray;margin: 0 0.4em 0.5em 0.4em;box-sizing: border-box;padding-bottom: 0.4em;background-color: white;}#sk-container-id-2 div.sk-label label {font-family: monospace;font-weight: bold;display: inline-block;line-height: 1.2em;}#sk-container-id-2 div.sk-label-container {text-align: center;}#sk-container-id-2 div.sk-container {/* jupyter's `normalize.less` sets `[hidden] { display: none; }` but bootstrap.min.css set `[hidden] { display: none !important; }` so we also need the `!important` here to be able to override the default hidden behavior on the sphinx rendered scikit-learn.org. See: https://github.com/scikit-learn/scikit-learn/issues/21755 */display: inline-block !important;position: relative;}#sk-container-id-2 div.sk-text-repr-fallback {display: none;}</style><div id=\"sk-container-id-2\" class=\"sk-top-container\"><div class=\"sk-text-repr-fallback\"><pre>LogisticRegression()</pre><b>In a Jupyter environment, please rerun this cell to show the HTML representation or trust the notebook. <br />On GitHub, the HTML representation is unable to render, please try loading this page with nbviewer.org.</b></div><div class=\"sk-container\" hidden><div class=\"sk-item\"><div class=\"sk-estimator sk-toggleable\"><input class=\"sk-toggleable__control sk-hidden--visually\" id=\"sk-estimator-id-8\" type=\"checkbox\" checked><label for=\"sk-estimator-id-8\" class=\"sk-toggleable__label sk-toggleable__label-arrow\">LogisticRegression</label><div class=\"sk-toggleable__content\"><pre>LogisticRegression()</pre></div></div></div></div></div>"
      ],
      "text/plain": [
       "LogisticRegression()"
      ]
     },
     "execution_count": 53,
     "metadata": {},
     "output_type": "execute_result"
    }
   ],
   "source": [
    "lor.fit(X_train, y_train)"
   ]
  },
  {
   "cell_type": "markdown",
   "id": "a12a408f",
   "metadata": {},
   "source": [
    "#### Assessing the model's quality\n",
    "\n",
    "One way to assess the quality of a logistic regression model is to look at the acurracy score\n",
    "which can be computed as follows:"
   ]
  },
  {
   "cell_type": "code",
   "execution_count": 54,
   "id": "6fbbb8d0",
   "metadata": {},
   "outputs": [
    {
     "name": "stdout",
     "output_type": "stream",
     "text": [
      "Accuracy train data: 0.9469072164948453\n"
     ]
    }
   ],
   "source": [
    "y_train_pred = lor.predict(X_train)\n",
    "\n",
    "accuracy = accuracy_score(y_train, y_train_pred)\n",
    "print(\"Accuracy train data:\", accuracy)"
   ]
  },
  {
   "cell_type": "markdown",
   "id": "6bde2a00",
   "metadata": {},
   "source": [
    "#### Tuning hyperparameters\n",
    "\n",
    "Using a [grid search with cross-validation](https://scikit-learn.org/stable/modules/generated/sklearn.model_selection.GridSearchCV.html) is a common approach for tuning hyperparameters in machine learning models.\n",
    "GridSearchCV is a technique used for tuning the hyperparameters of a machine learning model. It is essentially an exhaustive search algorithm that searches through a specified hyperparameter space to find the combination of hyperparameters that results in the best performance for the model. It does this by training and evaluating the model using all possible combinations of hyperparameters, and then returns the combination that performs the best based on a specified evaluation metric. "
   ]
  },
  {
   "cell_type": "code",
   "execution_count": 55,
   "id": "46c50d22",
   "metadata": {},
   "outputs": [
    {
     "name": "stdout",
     "output_type": "stream",
     "text": [
      "Best Hyperparameters:  {'C': 10, 'penalty': 'l2'}\n"
     ]
    }
   ],
   "source": [
    "param_grid = {\n",
    "    'penalty': ['l1', 'l2'],\n",
    "    'C': [0.001, 0.01, 0.1, 1, 10, 100]\n",
    "}\n",
    "\n",
    "grid_search = GridSearchCV(lor, param_grid, cv=5)\n",
    "grid_search.fit(X_train, y_train)\n",
    "\n",
    "print(\"Best Hyperparameters: \", grid_search.best_params_)"
   ]
  },
  {
   "cell_type": "code",
   "execution_count": 56,
   "id": "e8884b64",
   "metadata": {},
   "outputs": [
    {
     "name": "stdout",
     "output_type": "stream",
     "text": [
      "Accuracy on Train Set:  0.9969072164948454\n"
     ]
    }
   ],
   "source": [
    "best_model = grid_search.best_estimator_\n",
    "accuracy = best_model.score(X_train, y_train)\n",
    "print(\"Accuracy on Train Set: \", accuracy)"
   ]
  },
  {
   "cell_type": "markdown",
   "id": "ab4d524c",
   "metadata": {},
   "source": [
    "### Decision-tree classifier\n",
    "\n",
    "Next, we create the _decision-tree object_ for **decision tree mining**,\n",
    "and store it in the variable `tree`."
   ]
  },
  {
   "cell_type": "code",
   "execution_count": 57,
   "id": "5142eac5",
   "metadata": {},
   "outputs": [
    {
     "data": {
      "text/html": [
       "<style>#sk-container-id-3 {color: black;background-color: white;}#sk-container-id-3 pre{padding: 0;}#sk-container-id-3 div.sk-toggleable {background-color: white;}#sk-container-id-3 label.sk-toggleable__label {cursor: pointer;display: block;width: 100%;margin-bottom: 0;padding: 0.3em;box-sizing: border-box;text-align: center;}#sk-container-id-3 label.sk-toggleable__label-arrow:before {content: \"▸\";float: left;margin-right: 0.25em;color: #696969;}#sk-container-id-3 label.sk-toggleable__label-arrow:hover:before {color: black;}#sk-container-id-3 div.sk-estimator:hover label.sk-toggleable__label-arrow:before {color: black;}#sk-container-id-3 div.sk-toggleable__content {max-height: 0;max-width: 0;overflow: hidden;text-align: left;background-color: #f0f8ff;}#sk-container-id-3 div.sk-toggleable__content pre {margin: 0.2em;color: black;border-radius: 0.25em;background-color: #f0f8ff;}#sk-container-id-3 input.sk-toggleable__control:checked~div.sk-toggleable__content {max-height: 200px;max-width: 100%;overflow: auto;}#sk-container-id-3 input.sk-toggleable__control:checked~label.sk-toggleable__label-arrow:before {content: \"▾\";}#sk-container-id-3 div.sk-estimator input.sk-toggleable__control:checked~label.sk-toggleable__label {background-color: #d4ebff;}#sk-container-id-3 div.sk-label input.sk-toggleable__control:checked~label.sk-toggleable__label {background-color: #d4ebff;}#sk-container-id-3 input.sk-hidden--visually {border: 0;clip: rect(1px 1px 1px 1px);clip: rect(1px, 1px, 1px, 1px);height: 1px;margin: -1px;overflow: hidden;padding: 0;position: absolute;width: 1px;}#sk-container-id-3 div.sk-estimator {font-family: monospace;background-color: #f0f8ff;border: 1px dotted black;border-radius: 0.25em;box-sizing: border-box;margin-bottom: 0.5em;}#sk-container-id-3 div.sk-estimator:hover {background-color: #d4ebff;}#sk-container-id-3 div.sk-parallel-item::after {content: \"\";width: 100%;border-bottom: 1px solid gray;flex-grow: 1;}#sk-container-id-3 div.sk-label:hover label.sk-toggleable__label {background-color: #d4ebff;}#sk-container-id-3 div.sk-serial::before {content: \"\";position: absolute;border-left: 1px solid gray;box-sizing: border-box;top: 0;bottom: 0;left: 50%;z-index: 0;}#sk-container-id-3 div.sk-serial {display: flex;flex-direction: column;align-items: center;background-color: white;padding-right: 0.2em;padding-left: 0.2em;position: relative;}#sk-container-id-3 div.sk-item {position: relative;z-index: 1;}#sk-container-id-3 div.sk-parallel {display: flex;align-items: stretch;justify-content: center;background-color: white;position: relative;}#sk-container-id-3 div.sk-item::before, #sk-container-id-3 div.sk-parallel-item::before {content: \"\";position: absolute;border-left: 1px solid gray;box-sizing: border-box;top: 0;bottom: 0;left: 50%;z-index: -1;}#sk-container-id-3 div.sk-parallel-item {display: flex;flex-direction: column;z-index: 1;position: relative;background-color: white;}#sk-container-id-3 div.sk-parallel-item:first-child::after {align-self: flex-end;width: 50%;}#sk-container-id-3 div.sk-parallel-item:last-child::after {align-self: flex-start;width: 50%;}#sk-container-id-3 div.sk-parallel-item:only-child::after {width: 0;}#sk-container-id-3 div.sk-dashed-wrapped {border: 1px dashed gray;margin: 0 0.4em 0.5em 0.4em;box-sizing: border-box;padding-bottom: 0.4em;background-color: white;}#sk-container-id-3 div.sk-label label {font-family: monospace;font-weight: bold;display: inline-block;line-height: 1.2em;}#sk-container-id-3 div.sk-label-container {text-align: center;}#sk-container-id-3 div.sk-container {/* jupyter's `normalize.less` sets `[hidden] { display: none; }` but bootstrap.min.css set `[hidden] { display: none !important; }` so we also need the `!important` here to be able to override the default hidden behavior on the sphinx rendered scikit-learn.org. See: https://github.com/scikit-learn/scikit-learn/issues/21755 */display: inline-block !important;position: relative;}#sk-container-id-3 div.sk-text-repr-fallback {display: none;}</style><div id=\"sk-container-id-3\" class=\"sk-top-container\"><div class=\"sk-text-repr-fallback\"><pre>DecisionTreeClassifier()</pre><b>In a Jupyter environment, please rerun this cell to show the HTML representation or trust the notebook. <br />On GitHub, the HTML representation is unable to render, please try loading this page with nbviewer.org.</b></div><div class=\"sk-container\" hidden><div class=\"sk-item\"><div class=\"sk-estimator sk-toggleable\"><input class=\"sk-toggleable__control sk-hidden--visually\" id=\"sk-estimator-id-9\" type=\"checkbox\" checked><label for=\"sk-estimator-id-9\" class=\"sk-toggleable__label sk-toggleable__label-arrow\">DecisionTreeClassifier</label><div class=\"sk-toggleable__content\"><pre>DecisionTreeClassifier()</pre></div></div></div></div></div>"
      ],
      "text/plain": [
       "DecisionTreeClassifier()"
      ]
     },
     "execution_count": 57,
     "metadata": {},
     "output_type": "execute_result"
    }
   ],
   "source": [
    "tree = DecisionTreeClassifier()\n",
    "tree"
   ]
  },
  {
   "cell_type": "markdown",
   "id": "71161d50",
   "metadata": {},
   "source": [
    "#### Fitting the model\n",
    "\n",
    "Invoke the **`fit()`** function of the decision-tree object,\n",
    "supplying the selected data"
   ]
  },
  {
   "cell_type": "code",
   "execution_count": 58,
   "id": "e64befe9",
   "metadata": {},
   "outputs": [
    {
     "data": {
      "text/html": [
       "<style>#sk-container-id-4 {color: black;background-color: white;}#sk-container-id-4 pre{padding: 0;}#sk-container-id-4 div.sk-toggleable {background-color: white;}#sk-container-id-4 label.sk-toggleable__label {cursor: pointer;display: block;width: 100%;margin-bottom: 0;padding: 0.3em;box-sizing: border-box;text-align: center;}#sk-container-id-4 label.sk-toggleable__label-arrow:before {content: \"▸\";float: left;margin-right: 0.25em;color: #696969;}#sk-container-id-4 label.sk-toggleable__label-arrow:hover:before {color: black;}#sk-container-id-4 div.sk-estimator:hover label.sk-toggleable__label-arrow:before {color: black;}#sk-container-id-4 div.sk-toggleable__content {max-height: 0;max-width: 0;overflow: hidden;text-align: left;background-color: #f0f8ff;}#sk-container-id-4 div.sk-toggleable__content pre {margin: 0.2em;color: black;border-radius: 0.25em;background-color: #f0f8ff;}#sk-container-id-4 input.sk-toggleable__control:checked~div.sk-toggleable__content {max-height: 200px;max-width: 100%;overflow: auto;}#sk-container-id-4 input.sk-toggleable__control:checked~label.sk-toggleable__label-arrow:before {content: \"▾\";}#sk-container-id-4 div.sk-estimator input.sk-toggleable__control:checked~label.sk-toggleable__label {background-color: #d4ebff;}#sk-container-id-4 div.sk-label input.sk-toggleable__control:checked~label.sk-toggleable__label {background-color: #d4ebff;}#sk-container-id-4 input.sk-hidden--visually {border: 0;clip: rect(1px 1px 1px 1px);clip: rect(1px, 1px, 1px, 1px);height: 1px;margin: -1px;overflow: hidden;padding: 0;position: absolute;width: 1px;}#sk-container-id-4 div.sk-estimator {font-family: monospace;background-color: #f0f8ff;border: 1px dotted black;border-radius: 0.25em;box-sizing: border-box;margin-bottom: 0.5em;}#sk-container-id-4 div.sk-estimator:hover {background-color: #d4ebff;}#sk-container-id-4 div.sk-parallel-item::after {content: \"\";width: 100%;border-bottom: 1px solid gray;flex-grow: 1;}#sk-container-id-4 div.sk-label:hover label.sk-toggleable__label {background-color: #d4ebff;}#sk-container-id-4 div.sk-serial::before {content: \"\";position: absolute;border-left: 1px solid gray;box-sizing: border-box;top: 0;bottom: 0;left: 50%;z-index: 0;}#sk-container-id-4 div.sk-serial {display: flex;flex-direction: column;align-items: center;background-color: white;padding-right: 0.2em;padding-left: 0.2em;position: relative;}#sk-container-id-4 div.sk-item {position: relative;z-index: 1;}#sk-container-id-4 div.sk-parallel {display: flex;align-items: stretch;justify-content: center;background-color: white;position: relative;}#sk-container-id-4 div.sk-item::before, #sk-container-id-4 div.sk-parallel-item::before {content: \"\";position: absolute;border-left: 1px solid gray;box-sizing: border-box;top: 0;bottom: 0;left: 50%;z-index: -1;}#sk-container-id-4 div.sk-parallel-item {display: flex;flex-direction: column;z-index: 1;position: relative;background-color: white;}#sk-container-id-4 div.sk-parallel-item:first-child::after {align-self: flex-end;width: 50%;}#sk-container-id-4 div.sk-parallel-item:last-child::after {align-self: flex-start;width: 50%;}#sk-container-id-4 div.sk-parallel-item:only-child::after {width: 0;}#sk-container-id-4 div.sk-dashed-wrapped {border: 1px dashed gray;margin: 0 0.4em 0.5em 0.4em;box-sizing: border-box;padding-bottom: 0.4em;background-color: white;}#sk-container-id-4 div.sk-label label {font-family: monospace;font-weight: bold;display: inline-block;line-height: 1.2em;}#sk-container-id-4 div.sk-label-container {text-align: center;}#sk-container-id-4 div.sk-container {/* jupyter's `normalize.less` sets `[hidden] { display: none; }` but bootstrap.min.css set `[hidden] { display: none !important; }` so we also need the `!important` here to be able to override the default hidden behavior on the sphinx rendered scikit-learn.org. See: https://github.com/scikit-learn/scikit-learn/issues/21755 */display: inline-block !important;position: relative;}#sk-container-id-4 div.sk-text-repr-fallback {display: none;}</style><div id=\"sk-container-id-4\" class=\"sk-top-container\"><div class=\"sk-text-repr-fallback\"><pre>DecisionTreeClassifier()</pre><b>In a Jupyter environment, please rerun this cell to show the HTML representation or trust the notebook. <br />On GitHub, the HTML representation is unable to render, please try loading this page with nbviewer.org.</b></div><div class=\"sk-container\" hidden><div class=\"sk-item\"><div class=\"sk-estimator sk-toggleable\"><input class=\"sk-toggleable__control sk-hidden--visually\" id=\"sk-estimator-id-10\" type=\"checkbox\" checked><label for=\"sk-estimator-id-10\" class=\"sk-toggleable__label sk-toggleable__label-arrow\">DecisionTreeClassifier</label><div class=\"sk-toggleable__content\"><pre>DecisionTreeClassifier()</pre></div></div></div></div></div>"
      ],
      "text/plain": [
       "DecisionTreeClassifier()"
      ]
     },
     "execution_count": 58,
     "metadata": {},
     "output_type": "execute_result"
    }
   ],
   "source": [
    "tree.fit(X_train, y_train)"
   ]
  },
  {
   "cell_type": "markdown",
   "id": "a6d2b274",
   "metadata": {},
   "source": [
    "#### Extract model parameters\n",
    "\n",
    "In case of decision tree mining, there are relevant attributes of the decision-tree."
   ]
  },
  {
   "cell_type": "code",
   "execution_count": 59,
   "id": "45cd0e46",
   "metadata": {
    "scrolled": true
   },
   "outputs": [
    {
     "data": {
      "text/plain": [
       "(513, 127)"
      ]
     },
     "execution_count": 59,
     "metadata": {},
     "output_type": "execute_result"
    }
   ],
   "source": [
    "tree.tree_.node_count, tree.tree_.max_depth"
   ]
  },
  {
   "cell_type": "markdown",
   "id": "c0f8c4a6",
   "metadata": {},
   "source": [
    "#### Assess the model's quality\n",
    "\n",
    "The quality of a decision tree can be expressed as its _accuracy_ ,\n",
    "obtained as follows:"
   ]
  },
  {
   "cell_type": "code",
   "execution_count": 60,
   "id": "ac15b42a",
   "metadata": {
    "scrolled": true
   },
   "outputs": [
    {
     "name": "stdout",
     "output_type": "stream",
     "text": [
      "Training score: 0.9994845360824742\n"
     ]
    }
   ],
   "source": [
    "train_score = tree.score(X_train, y_train)\n",
    "print(\"Training score:\", train_score)"
   ]
  },
  {
   "cell_type": "markdown",
   "id": "ebd8e22f",
   "metadata": {},
   "source": [
    "#### Tuning hyperparameters\n",
    "\n",
    "Using a [grid search with cross-validation](https://scikit-learn.org/stable/modules/generated/sklearn.model_selection.GridSearchCV.html) is a common approach for tuning hyperparameters in machine learning models.\n",
    "GridSearchCV is a technique used for tuning the hyperparameters of a machine learning model. It is essentially an exhaustive search algorithm that searches through a specified hyperparameter space to find the combination of hyperparameters that results in the best performance for the model. It does this by training and evaluating the model using all possible combinations of hyperparameters, and then returns the combination that performs the best based on a specified evaluation metric. "
   ]
  },
  {
   "cell_type": "code",
   "execution_count": 61,
   "id": "4387b405",
   "metadata": {},
   "outputs": [
    {
     "name": "stdout",
     "output_type": "stream",
     "text": [
      "Best parameters:  {'max_depth': None, 'min_samples_leaf': 4, 'min_samples_split': 10}\n",
      "Best score:  0.7788659793814432\n"
     ]
    }
   ],
   "source": [
    "param_grid = {\n",
    "    'max_depth': [None, 3, 5, 7],\n",
    "    'min_samples_split': [2, 5, 10],\n",
    "    'min_samples_leaf': [1, 2, 4]\n",
    "}\n",
    "\n",
    "grid_search = GridSearchCV(tree, param_grid=param_grid, cv=5)\n",
    "grid_search.fit(X_train, y_train)\n",
    "\n",
    "print(\"Best parameters: \", grid_search.best_params_)\n",
    "print(\"Best score: \", grid_search.best_score_)"
   ]
  },
  {
   "cell_type": "markdown",
   "id": "a94c6236",
   "metadata": {},
   "source": [
    "With the new hyperparameters we can tune the model for better predictions. The grid search with cross-validation specifies that the best hyperparameters are the following: max_depth None, min_samples_leaf 4, min_samples_split 10.\n",
    "The max_depth is maximum depth of the decision tree which should be 7 in our case. The min_samples_leaf specifies the minimum number of samples required to be in a leaf node. The min_samples_split determines the minimum number of samples required to split an internal node."
   ]
  },
  {
   "cell_type": "markdown",
   "id": "086548b1",
   "metadata": {},
   "source": [
    "#### Visualize the model\n"
   ]
  },
  {
   "cell_type": "code",
   "execution_count": 64,
   "id": "abe84ad2",
   "metadata": {
    "scrolled": false
   },
   "outputs": [
    {
     "data": {
      "image/png": "[encoded data removed]",
      "text/plain": [
       "<Figure size 432x288 with 1 Axes>"
      ]
     },
     "metadata": {
      "needs_background": "light"
     },
     "output_type": "display_data"
    }
   ],
   "source": [
    "plot_tree(tree);"
   ]
  },
  {
   "cell_type": "code",
   "execution_count": 67,
   "id": "af269b8f",
   "metadata": {
    "scrolled": false
   },
   "outputs": [
    {
     "name": "stdout",
     "output_type": "stream",
     "text": [
      "|--- feature_5428 <= 0.05\n",
      "|   |--- feature_1864 <= 0.06\n",
      "|   |   |--- feature_2058 <= 0.06\n",
      "|   |   |   |--- feature_4464 <= 0.07\n",
      "|   |   |   |   |--- feature_1559 <= 0.07\n",
      "|   |   |   |   |   |--- feature_4415 <= 0.06\n",
      "|   |   |   |   |   |   |--- feature_2434 <= 0.07\n",
      "|   |   |   |   |   |   |   |--- feature_2403 <= 0.06\n",
      "|   |   |   |   |   |   |   |   |--- feature_1882 <= 0.07\n",
      "|   |   |   |   |   |   |   |   |   |--- feature_3289 <= 0.06\n",
      "|   |   |   |   |   |   |   |   |   |   |--- feature_3060 <= 0.13\n",
      "|   |   |   |   |   |   |   |   |   |   |   |--- truncated branch of depth 117\n",
      "|   |   |   |   |   |   |   |   |   |   |--- feature_3060 >  0.13\n",
      "|   |   |   |   |   |   |   |   |   |   |   |--- truncated branch of depth 11\n",
      "|   |   |   |   |   |   |   |   |   |--- feature_3289 >  0.06\n",
      "|   |   |   |   |   |   |   |   |   |   |--- class: 1\n",
      "|   |   |   |   |   |   |   |   |--- feature_1882 >  0.07\n",
      "|   |   |   |   |   |   |   |   |   |--- class: 1\n",
      "|   |   |   |   |   |   |   |--- feature_2403 >  0.06\n",
      "|   |   |   |   |   |   |   |   |--- feature_321 <= 0.26\n",
      "|   |   |   |   |   |   |   |   |   |--- class: 1\n",
      "|   |   |   |   |   |   |   |   |--- feature_321 >  0.26\n",
      "|   |   |   |   |   |   |   |   |   |--- class: 0\n",
      "|   |   |   |   |   |   |--- feature_2434 >  0.07\n",
      "|   |   |   |   |   |   |   |--- class: 1\n",
      "|   |   |   |   |   |--- feature_4415 >  0.06\n",
      "|   |   |   |   |   |   |--- feature_3811 <= 0.15\n",
      "|   |   |   |   |   |   |   |--- feature_2929 <= 0.19\n",
      "|   |   |   |   |   |   |   |   |--- feature_2306 <= 0.14\n",
      "|   |   |   |   |   |   |   |   |   |--- feature_473 <= 0.17\n",
      "|   |   |   |   |   |   |   |   |   |   |--- feature_5369 <= 0.25\n",
      "|   |   |   |   |   |   |   |   |   |   |   |--- truncated branch of depth 2\n",
      "|   |   |   |   |   |   |   |   |   |   |--- feature_5369 >  0.25\n",
      "|   |   |   |   |   |   |   |   |   |   |   |--- class: 0\n",
      "|   |   |   |   |   |   |   |   |   |--- feature_473 >  0.17\n",
      "|   |   |   |   |   |   |   |   |   |   |--- class: 0\n",
      "|   |   |   |   |   |   |   |   |--- feature_2306 >  0.14\n",
      "|   |   |   |   |   |   |   |   |   |--- class: 0\n",
      "|   |   |   |   |   |   |   |--- feature_2929 >  0.19\n",
      "|   |   |   |   |   |   |   |   |--- class: 0\n",
      "|   |   |   |   |   |   |--- feature_3811 >  0.15\n",
      "|   |   |   |   |   |   |   |--- feature_3383 <= 0.15\n",
      "|   |   |   |   |   |   |   |   |--- class: 0\n",
      "|   |   |   |   |   |   |   |--- feature_3383 >  0.15\n",
      "|   |   |   |   |   |   |   |   |--- class: 1\n",
      "|   |   |   |   |--- feature_1559 >  0.07\n",
      "|   |   |   |   |   |--- class: 1\n",
      "|   |   |   |--- feature_4464 >  0.07\n",
      "|   |   |   |   |--- class: 1\n",
      "|   |   |--- feature_2058 >  0.06\n",
      "|   |   |   |--- class: 1\n",
      "|   |--- feature_1864 >  0.06\n",
      "|   |   |--- class: 1\n",
      "|--- feature_5428 >  0.05\n",
      "|   |--- feature_4271 <= 0.27\n",
      "|   |   |--- class: 1\n",
      "|   |--- feature_4271 >  0.27\n",
      "|   |   |--- class: 0\n",
      "\n"
     ]
    }
   ],
   "source": [
    "text_representation = export_text(tree)\n",
    "print(text_representation)"
   ]
  },
  {
   "cell_type": "markdown",
   "id": "d9fbdadf",
   "metadata": {},
   "source": [
    "### K-nearest neighbor classifier\n",
    "\n",
    "The K-nearest neighbor (KNN) classifier is a simple algorithm that assigns a label to a data point based on the labels of its closest neighbors. It works by calculating the distances between the new data point and all the training data points, selecting the K nearest neighbors, and assigning a label based on majority voting (classification) or averaging (regression). "
   ]
  },
  {
   "cell_type": "code",
   "execution_count": 68,
   "id": "6af6f5f0",
   "metadata": {},
   "outputs": [],
   "source": [
    "knn = KNeighborsClassifier(n_neighbors=5)"
   ]
  },
  {
   "cell_type": "markdown",
   "id": "5156d113",
   "metadata": {},
   "source": [
    "#### Fiting the model\n",
    "\n",
    "I will invoke the **`fit()`** function of the knn object,\n",
    "supplying the selected data:"
   ]
  },
  {
   "cell_type": "code",
   "execution_count": 69,
   "id": "2b960b38",
   "metadata": {},
   "outputs": [
    {
     "data": {
      "text/html": [
       "<style>#sk-container-id-5 {color: black;background-color: white;}#sk-container-id-5 pre{padding: 0;}#sk-container-id-5 div.sk-toggleable {background-color: white;}#sk-container-id-5 label.sk-toggleable__label {cursor: pointer;display: block;width: 100%;margin-bottom: 0;padding: 0.3em;box-sizing: border-box;text-align: center;}#sk-container-id-5 label.sk-toggleable__label-arrow:before {content: \"▸\";float: left;margin-right: 0.25em;color: #696969;}#sk-container-id-5 label.sk-toggleable__label-arrow:hover:before {color: black;}#sk-container-id-5 div.sk-estimator:hover label.sk-toggleable__label-arrow:before {color: black;}#sk-container-id-5 div.sk-toggleable__content {max-height: 0;max-width: 0;overflow: hidden;text-align: left;background-color: #f0f8ff;}#sk-container-id-5 div.sk-toggleable__content pre {margin: 0.2em;color: black;border-radius: 0.25em;background-color: #f0f8ff;}#sk-container-id-5 input.sk-toggleable__control:checked~div.sk-toggleable__content {max-height: 200px;max-width: 100%;overflow: auto;}#sk-container-id-5 input.sk-toggleable__control:checked~label.sk-toggleable__label-arrow:before {content: \"▾\";}#sk-container-id-5 div.sk-estimator input.sk-toggleable__control:checked~label.sk-toggleable__label {background-color: #d4ebff;}#sk-container-id-5 div.sk-label input.sk-toggleable__control:checked~label.sk-toggleable__label {background-color: #d4ebff;}#sk-container-id-5 input.sk-hidden--visually {border: 0;clip: rect(1px 1px 1px 1px);clip: rect(1px, 1px, 1px, 1px);height: 1px;margin: -1px;overflow: hidden;padding: 0;position: absolute;width: 1px;}#sk-container-id-5 div.sk-estimator {font-family: monospace;background-color: #f0f8ff;border: 1px dotted black;border-radius: 0.25em;box-sizing: border-box;margin-bottom: 0.5em;}#sk-container-id-5 div.sk-estimator:hover {background-color: #d4ebff;}#sk-container-id-5 div.sk-parallel-item::after {content: \"\";width: 100%;border-bottom: 1px solid gray;flex-grow: 1;}#sk-container-id-5 div.sk-label:hover label.sk-toggleable__label {background-color: #d4ebff;}#sk-container-id-5 div.sk-serial::before {content: \"\";position: absolute;border-left: 1px solid gray;box-sizing: border-box;top: 0;bottom: 0;left: 50%;z-index: 0;}#sk-container-id-5 div.sk-serial {display: flex;flex-direction: column;align-items: center;background-color: white;padding-right: 0.2em;padding-left: 0.2em;position: relative;}#sk-container-id-5 div.sk-item {position: relative;z-index: 1;}#sk-container-id-5 div.sk-parallel {display: flex;align-items: stretch;justify-content: center;background-color: white;position: relative;}#sk-container-id-5 div.sk-item::before, #sk-container-id-5 div.sk-parallel-item::before {content: \"\";position: absolute;border-left: 1px solid gray;box-sizing: border-box;top: 0;bottom: 0;left: 50%;z-index: -1;}#sk-container-id-5 div.sk-parallel-item {display: flex;flex-direction: column;z-index: 1;position: relative;background-color: white;}#sk-container-id-5 div.sk-parallel-item:first-child::after {align-self: flex-end;width: 50%;}#sk-container-id-5 div.sk-parallel-item:last-child::after {align-self: flex-start;width: 50%;}#sk-container-id-5 div.sk-parallel-item:only-child::after {width: 0;}#sk-container-id-5 div.sk-dashed-wrapped {border: 1px dashed gray;margin: 0 0.4em 0.5em 0.4em;box-sizing: border-box;padding-bottom: 0.4em;background-color: white;}#sk-container-id-5 div.sk-label label {font-family: monospace;font-weight: bold;display: inline-block;line-height: 1.2em;}#sk-container-id-5 div.sk-label-container {text-align: center;}#sk-container-id-5 div.sk-container {/* jupyter's `normalize.less` sets `[hidden] { display: none; }` but bootstrap.min.css set `[hidden] { display: none !important; }` so we also need the `!important` here to be able to override the default hidden behavior on the sphinx rendered scikit-learn.org. See: https://github.com/scikit-learn/scikit-learn/issues/21755 */display: inline-block !important;position: relative;}#sk-container-id-5 div.sk-text-repr-fallback {display: none;}</style><div id=\"sk-container-id-5\" class=\"sk-top-container\"><div class=\"sk-text-repr-fallback\"><pre>KNeighborsClassifier()</pre><b>In a Jupyter environment, please rerun this cell to show the HTML representation or trust the notebook. <br />On GitHub, the HTML representation is unable to render, please try loading this page with nbviewer.org.</b></div><div class=\"sk-container\" hidden><div class=\"sk-item\"><div class=\"sk-estimator sk-toggleable\"><input class=\"sk-toggleable__control sk-hidden--visually\" id=\"sk-estimator-id-11\" type=\"checkbox\" checked><label for=\"sk-estimator-id-11\" class=\"sk-toggleable__label sk-toggleable__label-arrow\">KNeighborsClassifier</label><div class=\"sk-toggleable__content\"><pre>KNeighborsClassifier()</pre></div></div></div></div></div>"
      ],
      "text/plain": [
       "KNeighborsClassifier()"
      ]
     },
     "execution_count": 69,
     "metadata": {},
     "output_type": "execute_result"
    }
   ],
   "source": [
    "knn.fit(X_train, y_train)"
   ]
  },
  {
   "cell_type": "markdown",
   "id": "0bb7bd2b",
   "metadata": {},
   "source": [
    "#### Assessing the model's quality\n",
    "\n",
    "One way to assess the quality of a logistic regression model is to look at the acurracy score\n",
    "which can be computed as follows:"
   ]
  },
  {
   "cell_type": "code",
   "execution_count": 70,
   "id": "4a33fe71",
   "metadata": {},
   "outputs": [
    {
     "name": "stdout",
     "output_type": "stream",
     "text": [
      "Accuracy: 0.765979381443299\n"
     ]
    }
   ],
   "source": [
    "y_train_pred = knn.predict(X_train)\n",
    "accuracy = accuracy_score(y_train, y_train_pred)\n",
    "print(\"Accuracy:\", accuracy)"
   ]
  },
  {
   "cell_type": "markdown",
   "id": "4643a71c",
   "metadata": {},
   "source": [
    "#### Tuning hyperparameters\n",
    "\n",
    "Using a [grid search with cross-validation](https://scikit-learn.org/stable/modules/generated/sklearn.model_selection.GridSearchCV.html) is a common approach for tuning hyperparameters in machine learning models.\n",
    "GridSearchCV is a technique used for tuning the hyperparameters of a machine learning model. It is essentially an exhaustive search algorithm that searches through a specified hyperparameter space to find the combination of hyperparameters that results in the best performance for the model. It does this by training and evaluating the model using all possible combinations of hyperparameters, and then returns the combination that performs the best based on a specified evaluation metric. "
   ]
  },
  {
   "cell_type": "code",
   "execution_count": 74,
   "id": "4f6c78fa",
   "metadata": {},
   "outputs": [
    {
     "name": "stdout",
     "output_type": "stream",
     "text": [
      "Best Parameters: {'n_neighbors': 7, 'weights': 'distance'}\n"
     ]
    }
   ],
   "source": [
    "param_grid = {\n",
    "    'n_neighbors': [3, 5, 7],  \n",
    "    'weights': ['uniform', 'distance'], \n",
    "}\n",
    "\n",
    "\n",
    "knn = KNeighborsClassifier()\n",
    "\n",
    "\n",
    "grid_search = GridSearchCV(knn, param_grid, cv=5)  \n",
    "grid_search.fit(X_train, y_train)\n",
    "\n",
    "best_params = grid_search.best_params_\n",
    "\n",
    "print(\"Best Parameters:\", best_params)"
   ]
  },
  {
   "cell_type": "markdown",
   "id": "cab11b19",
   "metadata": {},
   "source": [
    "### Effect of the hyper-parameters accuracy and ROC curve\n",
    "\n",
    "First I'm going to build multiple models with different hyper-parameters, after the models are fitted next step is to look into different accuraccy values and roc curves. This would give me an ideea how the model performs and better understand it."
   ]
  },
  {
   "cell_type": "markdown",
   "id": "71757852",
   "metadata": {},
   "source": [
    "#### ROC curve\n",
    "\n",
    "The ROC curve is a graph that shows how a model can distinguish between different classes. It shows the relationship between two things true positives and false positives. The curve allows you to compare different modelsand it gives an idea of how well your model is performing. "
   ]
  },
  {
   "cell_type": "code",
   "execution_count": 85,
   "id": "01ca692f",
   "metadata": {},
   "outputs": [
    {
     "data": {
      "image/png": "[encoded data removed]",
      "text/plain": [
       "<Figure size 432x288 with 1 Axes>"
      ]
     },
     "metadata": {
      "needs_background": "light"
     },
     "output_type": "display_data"
    }
   ],
   "source": [
    "lor_prob_train = lor.predict_proba(X_train)[:, 1]\n",
    "lor_tune_prob_train = lortune.predict_proba(X_train)[:, 1]\n",
    "tree_prob_train = tree.predict_proba(X_train)[:, 1]\n",
    "tree_tune_prob_train = tree_tune.predict_proba(X_train)[:, 1]\n",
    "knn_prob_train = knn.predict_proba(X_train)[:, 1]\n",
    "knn_tune_prob_train = knn_tune.predict_proba(X_train)[:, 1]\n",
    "\n",
    "fpr_lor, tpr_lor, _ = roc_curve(y_train, lor_prob_train)\n",
    "auc_lor = roc_auc_score(y_train, lor_prob_train)\n",
    "\n",
    "fpr_lor_tune, tpr_lor_tune, _ = roc_curve(y_train, lor_tune_prob_train)\n",
    "auc_lor_tune = roc_auc_score(y_train, lor_tune_prob_train)\n",
    "\n",
    "fpr_tree, tpr_tree, _ = roc_curve(y_train, tree_prob_train)\n",
    "auc_tree = roc_auc_score(y_train, tree_prob_train)\n",
    "\n",
    "fpr_tree_tune, tpr_tree_tune, _ = roc_curve(y_train, tree_tune_prob_train)\n",
    "auc_tree_tune = roc_auc_score(y_train, tree_tune_prob_train)\n",
    "\n",
    "fpr_knn, tpr_knn, _ = roc_curve(y_train, knn_prob_train)\n",
    "auc_knn = roc_auc_score(y_train, knn_prob_train)\n",
    "\n",
    "fpr_knn_tune, tpr_knn_tune, _ = roc_curve(y_train, knn_tune_prob_train)\n",
    "auc_knn_tune = roc_auc_score(y_train, knn_tune_prob_train)\n",
    "\n",
    "plt.plot(fpr_lor, tpr_lor, label='Logistic Regression (AUC = {:.2f})'.format(auc_lor))\n",
    "plt.plot(fpr_lor_tune, tpr_lor_tune, label='Tuned Logistic Regression (AUC = {:.2f})'.format(auc_lor_tune))\n",
    "plt.plot(fpr_tree, tpr_tree, label='Decision Tree (AUC = {:.2f})'.format(auc_tree))\n",
    "plt.plot(fpr_tree_tune, tpr_tree_tune, label='Tuned Decision Tree (AUC = {:.2f})'.format(auc_tree_tune))\n",
    "plt.plot(fpr_knn, tpr_knn, label='K-Nearest Neighbors (AUC = {:.2f})'.format(auc_knn))\n",
    "plt.plot(fpr_knn_tune, tpr_knn_tune, label='Tuned K-Nearest Neighbors (AUC = {:.2f})'.format(auc_knn_tune))\n",
    "\n",
    "plt.title('Receiver Operating Characteristic')\n",
    "plt.xlabel('False Positive Rate')\n",
    "plt.ylabel('True Positive Rate')\n",
    "\n",
    "\n",
    "plt.legend(loc='lower right')\n",
    "\n",
    "plt.show()"
   ]
  },
  {
   "cell_type": "code",
   "execution_count": 88,
   "id": "49c4ba10",
   "metadata": {
    "scrolled": true
   },
   "outputs": [
    {
     "data": {
      "text/html": [
       "<div>\n",
       "<style scoped>\n",
       "    .dataframe tbody tr th:only-of-type {\n",
       "        vertical-align: middle;\n",
       "    }\n",
       "\n",
       "    .dataframe tbody tr th {\n",
       "        vertical-align: top;\n",
       "    }\n",
       "\n",
       "    .dataframe thead th {\n",
       "        text-align: right;\n",
       "    }\n",
       "</style>\n",
       "<table border=\"1\" class=\"dataframe\">\n",
       "  <thead>\n",
       "    <tr style=\"text-align: right;\">\n",
       "      <th></th>\n",
       "      <th>Model</th>\n",
       "      <th>Accuracy</th>\n",
       "      <th>Precision</th>\n",
       "      <th>Recall</th>\n",
       "    </tr>\n",
       "  </thead>\n",
       "  <tbody>\n",
       "    <tr>\n",
       "      <th>0</th>\n",
       "      <td>Logistic Regression</td>\n",
       "      <td>0.946907</td>\n",
       "      <td>0.958730</td>\n",
       "      <td>0.934021</td>\n",
       "    </tr>\n",
       "    <tr>\n",
       "      <th>1</th>\n",
       "      <td>Tuned Logistic Regression</td>\n",
       "      <td>0.946907</td>\n",
       "      <td>0.958730</td>\n",
       "      <td>0.934021</td>\n",
       "    </tr>\n",
       "    <tr>\n",
       "      <th>2</th>\n",
       "      <td>Decision Tree</td>\n",
       "      <td>0.999485</td>\n",
       "      <td>1.000000</td>\n",
       "      <td>0.998969</td>\n",
       "    </tr>\n",
       "    <tr>\n",
       "      <th>3</th>\n",
       "      <td>Tuned Decision Tree</td>\n",
       "      <td>0.889175</td>\n",
       "      <td>0.934407</td>\n",
       "      <td>0.837113</td>\n",
       "    </tr>\n",
       "    <tr>\n",
       "      <th>4</th>\n",
       "      <td>K-Nearest Neighbors</td>\n",
       "      <td>0.765979</td>\n",
       "      <td>0.792517</td>\n",
       "      <td>0.720619</td>\n",
       "    </tr>\n",
       "    <tr>\n",
       "      <th>5</th>\n",
       "      <td>Tuned K-Nearest Neighbors</td>\n",
       "      <td>0.999485</td>\n",
       "      <td>1.000000</td>\n",
       "      <td>0.998969</td>\n",
       "    </tr>\n",
       "  </tbody>\n",
       "</table>\n",
       "</div>"
      ],
      "text/plain": [
       "                       Model  Accuracy  Precision    Recall\n",
       "0        Logistic Regression  0.946907   0.958730  0.934021\n",
       "1  Tuned Logistic Regression  0.946907   0.958730  0.934021\n",
       "2              Decision Tree  0.999485   1.000000  0.998969\n",
       "3        Tuned Decision Tree  0.889175   0.934407  0.837113\n",
       "4        K-Nearest Neighbors  0.765979   0.792517  0.720619\n",
       "5  Tuned K-Nearest Neighbors  0.999485   1.000000  0.998969"
      ]
     },
     "execution_count": 88,
     "metadata": {},
     "output_type": "execute_result"
    }
   ],
   "source": [
    "# Logistic Regression\n",
    "lor_pred_train = lor.predict(X_train)\n",
    "lor_pred_tune_train = lortune.predict(X_train)\n",
    "\n",
    "accuracy_lor_train = accuracy_score(y_train, lor_pred_train)\n",
    "precision_lor_train = precision_score(y_train, lor_pred_train)\n",
    "recall_lor_train = recall_score(y_train, lor_pred_train)\n",
    "\n",
    "accuracy_lor_tune_train = accuracy_score(y_train, lor_pred_tune_train)\n",
    "precision_lor_tune_train = precision_score(y_train, lor_pred_tune_train)\n",
    "recall_lor_tune_train = recall_score(y_train, lor_pred_tune_train)\n",
    "\n",
    "# Decision Tree\n",
    "tree_pred_train = tree.predict(X_train)\n",
    "tree_pred_tune_train = tree_tune.predict(X_train)\n",
    "\n",
    "accuracy_tree_train = accuracy_score(y_train, tree_pred_train)\n",
    "precision_tree_train = precision_score(y_train, tree_pred_train)\n",
    "recall_tree_train = recall_score(y_train, tree_pred_train)\n",
    "\n",
    "accuracy_tree_tune_train = accuracy_score(y_train, tree_pred_tune_train)\n",
    "precision_tree_tune_train = precision_score(y_train, tree_pred_tune_train)\n",
    "recall_tree_tune_train = recall_score(y_train, tree_pred_tune_train)\n",
    "\n",
    "# K-Nearest Neighbors\n",
    "knn_pred_train = knn.predict(X_train)\n",
    "knn_pred_tune_train = knn_tune.predict(X_train)\n",
    "\n",
    "accuracy_knn_train = accuracy_score(y_train, knn_pred_train)\n",
    "precision_knn_train = precision_score(y_train, knn_pred_train)\n",
    "recall_knn_train = recall_score(y_train, knn_pred_train)\n",
    "\n",
    "accuracy_knn_tune_train = accuracy_score(y_train, knn_pred_tune_train)\n",
    "precision_knn_tune_train = precision_score(y_train, knn_pred_tune_train)\n",
    "recall_knn_tune_train = recall_score(y_train, knn_pred_tune_train)\n",
    "\n",
    "scores = {\n",
    "    'Model': ['Logistic Regression', 'Tuned Logistic Regression', 'Decision Tree', 'Tuned Decision Tree', 'K-Nearest Neighbors', 'Tuned K-Nearest Neighbors'],\n",
    "    'Accuracy': [accuracy_lor_train, accuracy_lor_tune_train, accuracy_tree_train, accuracy_tree_tune_train, accuracy_knn_train, accuracy_knn_tune_train],\n",
    "    'Precision': [precision_lor_train, precision_lor_tune_train, precision_tree_train, precision_tree_tune_train, precision_knn_train, precision_knn_tune_train],\n",
    "    'Recall': [recall_lor_train, recall_lor_tune_train, recall_tree_train, recall_tree_tune_train, recall_knn_train, recall_knn_tune_train]\n",
    "}\n",
    "\n",
    "scores_df = pd.DataFrame(scores)\n",
    "\n",
    "scores_df"
   ]
  },
  {
   "cell_type": "markdown",
   "id": "630c6913",
   "metadata": {},
   "source": [
    "## Conclusion\n",
    "\n",
    "The models are not as reliable but I still work to improve on.\n",
    "\n",
    "Text-preprocessing came up to be a really challanging task for me but still was engaging. Vectorizing made a lot of problem with scoring the acccuracy due to the nature of how vectorizing works. I still made some progress and created a few models.\n",
    "\n",
    "### Thank you!"
   ]
  },
  {
   "cell_type": "markdown",
   "id": "cf4d1db7",
   "metadata": {},
   "source": [
    "# REFERANCES \n",
    "\n",
    "    Wikipedia. (n.d.). Data modeling. Retrieved from https://en.wikipedia.org/wiki/Data_modeling\n",
    "\n",
    "    Kaggle. (n.d.). Diabetes Prediction Dataset. Retrieved from https://www.kaggle.com/datasets/iammustafatz\n",
    "\n",
    "    Ferreira, N. (n.d.). From Data to Viz. Retrieved from https://www.data-to-viz.com/\n",
    "\n",
    "    scikit-learn. (n.d.). GridSearchCV. Retrieved from https://scikit-learn.org/stable/modules/generated/sklearn.model_selection.GridSearchCV.html\n",
    "\n",
    "    Lemaitre, G., Nogueira, F., & Aridas, C. (2021). imbalanced-learn: A Python Toolbox to Tackle the Curse of   Imbalanced Datasets in Machine Learning. Journal of Machine Learning Research, 18(17), 1-5. Retrieved from https://pypi.org/project/imbalanced-learn/\n",
    "\n",
    "    Wikipedia. (n.d.). Receiver Operating Characteristic. Retrieved from https://en.wikipedia.org/wiki/Receiver_operating_characteristicestablishing\n",
    "    \n",
    "    Pedregosa, F., Varoquaux, G., Gramfort, A., Michel, V., Thirion, B., Grisel, O., ... & Vanderplas, J. (2011). Scikit-learn: Machine learning in Python. Journal of Machine Learning Research, 12(Oct), 2825-2830. Retrieved from https://scikit-learn.org/stable/modules/generated/sklearn.pipeline.Pipeline.html\n",
    "\n",
    "    Pedregosa, F., Varoquaux, G., Gramfort, A., Michel, V., Thirion, B., Grisel, O., ... & Vanderplas, J. (2011). Scikit-learn: Machine learning in Python. Journal of Machine Learning Research, 12(Oct), 2825-2830. Retrieved from https://scikit-learn.org/stable/tutorial/text_analytics/working_with_text_data.html\n",
    "\n",
    "    Goel, R. (2021). Hatred on Twitter during #MeToo Movement. Retrieved from https://www.kaggle.com/datasets/rahulgoel1106/hatred-on-twitter-during-metoo-movement\n",
    "\n",
    "    Pedregosa, F., Varoquaux, G., Gramfort, A., Michel, V., Thirion, B., Grisel, O., ... & Vanderplas, J. (2011). Scikit-learn: Machine learning in Python. Journal of Machine Learning Research, 12(Oct), 2825-2830. Retrieved from https://scikit-learn.org/stable/modules/generated/sklearn.feature_extraction.text.TfidfVectorizer.html\n",
    "\n",
    "    Khan, S. (2020, March 24). Topic Modeling Articles with NMF. Towards Data Science. Retrieved from https://towardsdatascience.com/topic-modeling-articles-with-nmf-8c6b2a227a45"
   ]
  }
 ],
 "metadata": {
  "kernelspec": {
   "display_name": "Python 3 (ipykernel)",
   "language": "python",
   "name": "python3"
  },
  "language_info": {
   "codemirror_mode": {
    "name": "ipython",
    "version": 3
   },
   "file_extension": ".py",
   "mimetype": "text/x-python",
   "name": "python",
   "nbconvert_exporter": "python",
   "pygments_lexer": "ipython3",
   "version": "3.10.6"
  }
 },
 "nbformat": 4,
 "nbformat_minor": 5
}
